{
 "cells": [
  {
   "cell_type": "raw",
   "metadata": {
    "vscode": {
     "languageId": "raw"
    }
   },
   "source": [
    "---\n",
    "lang: es\n",
    "format:\n",
    "    pdf:\n",
    "        toc: true\n",
    "        toc-title: \"Tabla de Contenidos\"\n",
    "execute:\n",
    "    echo: true\n",
    "    error: false\n",
    "    warning: false\n",
    "jupyter: python3\n",
    "---"
   ]
  },
  {
   "cell_type": "markdown",
   "metadata": {},
   "source": [
    "| ESCUELA POLITÉCNICA NACIONAL  |                              | Tarea No. |\n",
    "|-------------------------------|------------------------------|--------------|\n",
    "| **Metodos Numericos – Computación**     | | **5**        |\n",
    "| NOMBRE: Ivonne Carolina Ayala |                              |              |\n"
   ]
  },
  {
   "cell_type": "markdown",
   "metadata": {},
   "source": [
    "# 📚 [Tarea 05] Unidad 03-A\n",
    "\n",
    "## Conjunto de Ejercicios\n",
    "\n",
    "### Ejercicio 1 👽\n",
    "\n",
    "1. Sea $f(x) = -x^3 - \\cos x $ y $ p_0 = -1$ .\n",
    "Use el método de Newton y de la Secante para encontrar $ p_2 $. ¿Se podría usar $p_0 = 0$?\n"
   ]
  },
  {
   "cell_type": "code",
   "execution_count": 3,
   "metadata": {},
   "outputs": [
    {
     "name": "stdout",
     "output_type": "stream",
     "text": [
      "La raiz de la función con el método de Newton es: -0.8654740331016144\n",
      "La raiz de la función con el método de Secante es: -0.8654740331016144\n"
     ]
    }
   ],
   "source": [
    "import numpy as np\n",
    "import matplotlib.pyplot as plt\n",
    "from scipy import optimize\n",
    "\n",
    "f = lambda x: -x**3 - np.cos(x)\n",
    "\n",
    "root = optimize.newton(f, -1, fprime=lambda x:-3*x**2 + np.sin(x))\n",
    "print('La raiz de la función con el método de Newton es: {}'.format(root))\n",
    "root = optimize.newton(f, -1)\n",
    "print('La raiz de la función con el método de Secante es: {}'.format(root))"
   ]
  },
  {
   "cell_type": "markdown",
   "metadata": {},
   "source": [
    "¿Se puede usar $p_0 = 0$?  \n",
    "No, no se puede usar $p_0 = 0$ para el método de Newton porque en ese punto la derivada de $f(x)$ es:\n",
    "\n",
    "$$\n",
    "f'(0) = -3(0)^2 + \\sin(0) = 0\n",
    "$$\n",
    "\n",
    "Esto hace que el denominador en la fórmula de Newton se anule, y el método no puede avanzar. En cambio, el método de la secante podría usarse con $p_0 = 0$ y $p_1 \\neq 0$.\n"
   ]
  },
  {
   "cell_type": "markdown",
   "metadata": {},
   "source": [
    "### Ejercicio 2 👽\n",
    "\n",
    " Encuentre soluciones precisas dentro de $10^{−4}$ para los siguientes problemas.\n",
    "\n",
    " **a.** $x^3 - 2x^2 - 5 = 0, [1,4]$"
   ]
  },
  {
   "cell_type": "code",
   "execution_count": 4,
   "metadata": {},
   "outputs": [
    {
     "name": "stdout",
     "output_type": "stream",
     "text": [
      "La raiz de la función es: 2.6906474480286287\n"
     ]
    }
   ],
   "source": [
    "f = lambda x: x**3 - 2*x**2 - 5\n",
    "tol = 10**(-4)\n",
    "root = optimize.newton(f, 1, fprime=lambda x:3*x**2 - 4*x, tol = tol)\n",
    "print('La raiz de la función es: {}'.format(root))"
   ]
  },
  {
   "cell_type": "markdown",
   "metadata": {},
   "source": [
    "**b.** $x^3 + 3x^2 - 1 = 0, [-3,-2]$"
   ]
  },
  {
   "cell_type": "code",
   "execution_count": 5,
   "metadata": {},
   "outputs": [
    {
     "name": "stdout",
     "output_type": "stream",
     "text": [
      "La raiz de la función es: -2.879486729132456\n"
     ]
    }
   ],
   "source": [
    "f = lambda x: x**3 + 3*x**2 - 1\n",
    "root = optimize.newton(f, -3, fprime=lambda x:3*x**2 + 2*x, tol = tol)\n",
    "print('La raiz de la función es: {}'.format(root))"
   ]
  },
  {
   "cell_type": "markdown",
   "metadata": {},
   "source": [
    "**c.** $x - cos(x) = 0, [0,\\frac{\\pi}{2}]$"
   ]
  },
  {
   "cell_type": "code",
   "execution_count": 6,
   "metadata": {},
   "outputs": [
    {
     "name": "stdout",
     "output_type": "stream",
     "text": [
      "La raiz de la función es: 0.7390851121452099\n"
     ]
    }
   ],
   "source": [
    "f = lambda x: x - np.cos(x)\n",
    "root = optimize.newton(f, 0, tol = tol)\n",
    "print('La raiz de la función es: {}'.format(root))"
   ]
  },
  {
   "cell_type": "markdown",
   "metadata": {},
   "source": [
    "**d.** $x - 0.8 - 0.2sen(x) = 0, [0,\\frac{\\pi}{2}]$"
   ]
  },
  {
   "cell_type": "code",
   "execution_count": 7,
   "metadata": {},
   "outputs": [
    {
     "name": "stdout",
     "output_type": "stream",
     "text": [
      "La raiz de la función es: 0.9643338895520454\n"
     ]
    }
   ],
   "source": [
    "f = lambda x: x - 0.8 - 0.2* np.sin(x)\n",
    "root = optimize.newton(f, 0, tol = tol)\n",
    "print('La raiz de la función es: {}'.format(root))"
   ]
  },
  {
   "cell_type": "markdown",
   "metadata": {},
   "source": [
    "### Ejercicio 3 👽\n",
    "Use los 2 métodos en esta sección para encontrar las soluciones dentro de 10−5 para los siguientes problemas. \n",
    "\n",
    "**a.** $3x - e^x = 0$ para $1 \\leq x \\leq 2$"
   ]
  },
  {
   "cell_type": "code",
   "execution_count": 9,
   "metadata": {},
   "outputs": [
    {
     "name": "stdout",
     "output_type": "stream",
     "text": [
      "La raiz de la función con el metodo de la secante es: 1.512134607515724\n",
      "La raiz de la función con el metodo de Newton es: 1.5121345516685922\n"
     ]
    }
   ],
   "source": [
    "f = lambda x: 3*x - np.e**x\n",
    "root = optimize.newton(f, 2, tol = tol)\n",
    "print('La raiz de la función con el metodo de la secante es: {}'.format(root))\n",
    "root = optimize.newton(f, 2, fprime = lambda x: 3 - np.e**x, tol = tol)\n",
    "print('La raiz de la función con el metodo de Newton es: {}'.format(root))"
   ]
  },
  {
   "cell_type": "markdown",
   "metadata": {},
   "source": [
    "**b.** $2x + 3cos(x) - e^x = 0$ para $1 \\leq x \\leq 2$"
   ]
  },
  {
   "cell_type": "code",
   "execution_count": 10,
   "metadata": {},
   "outputs": [
    {
     "name": "stdout",
     "output_type": "stream",
     "text": [
      "La raiz de la función con el metodo de la secante es: 1.2397146979752174\n",
      "La raiz de la función con el metodo de Newton es: 1.2397146979752174\n"
     ]
    }
   ],
   "source": [
    "f = lambda x: 2*x + 3*np.cos(x) - np.e**x\n",
    "root = optimize.newton(f, 2)\n",
    "print('La raiz de la función con el metodo de la secante es: {}'.format(root))\n",
    "root = optimize.newton(f, 2, fprime = lambda x: 2 - 3*np.sin(x) - np.e**x)\n",
    "print('La raiz de la función con el metodo de Newton es: {}'.format(root))"
   ]
  },
  {
   "cell_type": "markdown",
   "metadata": {},
   "source": [
    "### Ejercicio 4 👽 \n",
    "El polinomio de cuarto grado $f(x) = 230x^4 + 18x^3 +9x^2 - 221x - 9$ tiene dos ceros reales, uno en $[−1,0]$ y el otro en $[0,]$. Intente aproximar estos ceros dentro de $10^{−6}$ con\n",
    "\n",
    "**a.** El método de la secante (use los extremos como las estimaciones iniciales) \n"
   ]
  },
  {
   "cell_type": "code",
   "execution_count": 31,
   "metadata": {},
   "outputs": [
    {
     "name": "stdout",
     "output_type": "stream",
     "text": [
      "La raiz de la funcion es: -0.040659288315758865\n",
      "La raiz de la funcion es: 0.9623984187505422\n"
     ]
    }
   ],
   "source": [
    "f = lambda x: 230*x**4 + 18*x**3 +9*x**2 - 221*x - 9\n",
    "tol = 10**-6\n",
    "root = optimize.newton(f, -1)\n",
    "print(f'La raiz de la funcion es: {root}')\n",
    "root = optimize.newton(f, 1)\n",
    "print(f'La raiz de la funcion es: {root}')"
   ]
  },
  {
   "cell_type": "markdown",
   "metadata": {},
   "source": [
    "**b.** El método de Newton (use el punto medio como estimación inicial) "
   ]
  },
  {
   "cell_type": "code",
   "execution_count": 32,
   "metadata": {},
   "outputs": [
    {
     "name": "stdout",
     "output_type": "stream",
     "text": [
      "La raiz de la funcion es: -0.040659288315758865\n",
      "La raiz de la funcion es: 0.9623984187505414\n"
     ]
    }
   ],
   "source": [
    "f = lambda x: 230*x**4 + 18*x**3 +9*x**2 - 221*x - 9\n",
    "tol = 10**-6\n",
    "root = optimize.newton(f, -0.5, fprime= lambda x: 920*x**3 + 54*x**2 + 18*x - 221)\n",
    "print(f'La raiz de la funcion es: {root}')\n",
    "root = optimize.newton(f, 2, fprime= lambda x: 920*x**3 + 54*x**2 + 18*x - 221)\n",
    "print(f'La raiz de la funcion es: {root}')"
   ]
  },
  {
   "cell_type": "markdown",
   "metadata": {},
   "source": [
    "### Ejercicio 5 👽\n",
    "La función $f(x) = tan(\\pi x) − 6$ tiene cero en $(1/\\pi)$ arcotangente 6 ≈ 0.447431543. Sea $p_0 = 0$ y $p_1 = 0.48$ \n",
    "y use 10 iteraciones en cada uno de los siguientes métodos para aproximar esta raíz. ¿Cuál método es más eficaz y por qué?\n"
   ]
  },
  {
   "cell_type": "markdown",
   "metadata": {},
   "source": [
    "**a.** método de bisección"
   ]
  },
  {
   "cell_type": "code",
   "execution_count": 19,
   "metadata": {},
   "outputs": [
    {
     "name": "stdout",
     "output_type": "stream",
     "text": [
      "Failed to converge after 10 iterations.\n"
     ]
    }
   ],
   "source": [
    "f = lambda x: np.tan(np.pi*x) - 6\n",
    "\n",
    "try:\n",
    "    root = optimize.bisect(f, 0, 0.48, maxiter = 10)\n",
    "    print(root)\n",
    "except RuntimeError as e:\n",
    "    print(e)\n"
   ]
  },
  {
   "cell_type": "markdown",
   "metadata": {},
   "source": [
    "**b.** método de newton"
   ]
  },
  {
   "cell_type": "code",
   "execution_count": 18,
   "metadata": {},
   "outputs": [
    {
     "name": "stdout",
     "output_type": "stream",
     "text": [
      "Failed to converge after 10 iterations, value is -12.778491310467388.\n"
     ]
    }
   ],
   "source": [
    "f = lambda x: np.tan(np.pi*x) - 6\n",
    "\n",
    "try:\n",
    "    root = optimize.newton(f, 0.48, fprime= lambda x:np.arctan(np.pi*x) * np.pi, maxiter=10)\n",
    "    print(root)\n",
    "except RuntimeError as e:\n",
    "    print(e)\n"
   ]
  },
  {
   "cell_type": "markdown",
   "metadata": {},
   "source": [
    "**c.** método de la secante"
   ]
  },
  {
   "cell_type": "code",
   "execution_count": null,
   "metadata": {},
   "outputs": [
    {
     "name": "stdout",
     "output_type": "stream",
     "text": [
      "0.44743154328893403\n"
     ]
    }
   ],
   "source": [
    "f = lambda x: np.tan(np.pi*x) - 6\n",
    "\n",
    "\n",
    "try:\n",
    "    root = optimize.newton(f, 0.48, maxiter=10)\n",
    "    print(root)\n",
    "except RuntimeError as e:\n",
    "    print(e)"
   ]
  },
  {
   "cell_type": "markdown",
   "metadata": {},
   "source": [
    "El método más eficiente es el de la secante, porque es el único que converge."
   ]
  },
  {
   "cell_type": "markdown",
   "metadata": {},
   "source": [
    "### Ejercicio 6 👽\n",
    "La función descrita por $f(x) = ln(x2 + 1) − e^{0.4x} cos(\\pi x)$ tiene un número infinito de ceros.\n",
    "\n",
    "**a.** Determine, dentro de $10^{-6}$, el único cero negativo. "
   ]
  },
  {
   "cell_type": "code",
   "execution_count": null,
   "metadata": {},
   "outputs": [
    {
     "name": "stdout",
     "output_type": "stream",
     "text": [
      "-0.43414304730000164\n"
     ]
    }
   ],
   "source": [
    "f = lambda x: np.log(x**2 + 1) - np.e**(0.4*x) * np.cos(np.pi*x)\n",
    "\n",
    "root = optimize.newton(f, -0.5, tol=10**-6)\n",
    "print(root)"
   ]
  },
  {
   "cell_type": "markdown",
   "metadata": {},
   "source": [
    "**b.** Determine, dentro de $10^{-6}$, los cuatro ceros positivos más pequeños."
   ]
  },
  {
   "cell_type": "code",
   "execution_count": 24,
   "metadata": {},
   "outputs": [
    {
     "name": "stdout",
     "output_type": "stream",
     "text": [
      "Failed to converge after 50 iterations, value is -2.062270253992078e+26.\n",
      "Failed to converge after 50 iterations, value is -2.0014414689911985e+27.\n",
      "Failed to converge after 50 iterations, value is 3.1714517236664837e+18.\n",
      "Raíces encontradas: [0.44743154328871987]\n"
     ]
    }
   ],
   "source": [
    "p = [0.4, 1.6, 2, 3]\n",
    "\n",
    "roots = []\n",
    "\n",
    "for p0 in p:\n",
    "    try:\n",
    "        root = optimize.newton(f, p0, tol=1e-6)\n",
    "        roots.append(root)\n",
    "    except RuntimeError as e:\n",
    "        print(e)\n",
    "\n",
    "print(\"Raíces encontradas:\", roots)"
   ]
  },
  {
   "cell_type": "markdown",
   "metadata": {},
   "source": [
    "**c.** Determine una aproximación inicial razonable para encontrar el enésimo cero positivo más pequeño de $f$. "
   ]
  },
  {
   "cell_type": "code",
   "execution_count": null,
   "metadata": {},
   "outputs": [
    {
     "name": "stdout",
     "output_type": "stream",
     "text": [
      "El enésimo cero positivo más pequeño es 9.447431543755696\n",
      "El enésimo cero positivo más pequeño es 9.447431543755696\n"
     ]
    }
   ],
   "source": [
    "root = optimize.newton(f, 9.4, tol=1e-6)\n",
    "print(f'El enésimo cero positivo más pequeño es {root}')"
   ]
  },
  {
   "cell_type": "markdown",
   "metadata": {},
   "source": [
    "**d.** Use la parte c) para determinar, dentro de 10−6, el vigesimoquinto cero positivo más pequeño de $f$. "
   ]
  },
  {
   "cell_type": "code",
   "execution_count": 33,
   "metadata": {},
   "outputs": [
    {
     "name": "stdout",
     "output_type": "stream",
     "text": [
      "El vigesimoquinto cero positivo más pequeño es 0.9623984187540163\n"
     ]
    }
   ],
   "source": [
    "root = optimize.newton(f, 24.4, tol=1e-6)\n",
    "print(f'El vigesimoquinto cero positivo más pequeño es {root}')"
   ]
  },
  {
   "cell_type": "markdown",
   "metadata": {},
   "source": [
    "7. La función $f(x) = x^{\\frac{1}{3}}$ tiene raíz en $x = 0$.Usando el punto de inicio de $x = 1$ y $p_0 = 5$, $p_1 = 0.5$ para el \n",
    "método de secante, compare los resultados de los métodos de la secante y de Newton. "
   ]
  },
  {
   "cell_type": "code",
   "execution_count": 34,
   "metadata": {},
   "outputs": [
    {
     "name": "stdout",
     "output_type": "stream",
     "text": [
      "Failed to converge after 50 iterations, value is 0.15125956067017968.\n",
      "Failed to converge after 50 iterations, value is nan.\n"
     ]
    },
    {
     "name": "stderr",
     "output_type": "stream",
     "text": [
      "C:\\Users\\asdfg\\AppData\\Local\\Temp\\ipykernel_16160\\547667771.py:10: RuntimeWarning: invalid value encountered in scalar power\n",
      "  root = optimize.newton(f, x0=5, fprime=lambda x:(1/3)*x**(-(2/3)))\n"
     ]
    }
   ],
   "source": [
    "f = lambda x: np.cbrt(x)\n",
    "\n",
    "try:\n",
    "    root = optimize.newton(f, x0=5, x1= 0.5)\n",
    "    print(f'La raiz con el metodo de la secante es {root}')\n",
    "except RuntimeError as e:\n",
    "    print(e)\n",
    "\n",
    "try:\n",
    "    root = optimize.newton(f, x0=5, fprime=lambda x:(1/3)*x**(-(2/3)))\n",
    "    print(f'La raiz con el metodo de Newton es {root}')\n",
    "except RuntimeError as e:\n",
    "    print(e)"
   ]
  },
  {
   "cell_type": "markdown",
   "metadata": {},
   "source": [
    "Ninguno de los dos métodos converge por el dominio de la función, sin embargo, el único método que devuelve un valor es la secante"
   ]
  }
 ],
 "metadata": {
  "kernelspec": {
   "display_name": "base",
   "language": "python",
   "name": "python3"
  },
  "language_info": {
   "codemirror_mode": {
    "name": "ipython",
    "version": 3
   },
   "file_extension": ".py",
   "mimetype": "text/x-python",
   "name": "python",
   "nbconvert_exporter": "python",
   "pygments_lexer": "ipython3",
   "version": "3.12.4"
  }
 },
 "nbformat": 4,
 "nbformat_minor": 2
}
