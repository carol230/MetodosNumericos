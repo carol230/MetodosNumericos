{
 "cells": [
  {
   "cell_type": "raw",
   "metadata": {},
   "source": [
    "---\n",
    "lang: es\n",
    "format:\n",
    "    pdf:\n",
    "        toc: false\n",
    "execute:\n",
    "    echo: true\n",
    "    error: false\n",
    "    warning: false\n",
    "jupyter: python3\n",
    "---"
   ]
  },
  {
   "cell_type": "markdown",
   "metadata": {},
   "source": [
    "# Actividad Extra 13\n",
    "## DeepSeek"
   ]
  },
  {
   "cell_type": "markdown",
   "metadata": {
    "vscode": {
     "languageId": "raw"
    }
   },
   "source": [
    "### 1. Distillation y presunto robo de datos a OpenAI\n",
    "\n",
    "DeepSeek ha sido acusada de emplear la técnica de \"distillation\" para entrenar sus modelos de inteligencia artificial. Esta estrategia permite optimizar el proceso de aprendizaje al aprovechar las respuestas generadas por modelos más avanzados, reduciendo así el tiempo y los costos de entrenamiento. Sin embargo, OpenAI y Microsoft están investigando si DeepSeek utilizó esta técnica con datos de OpenAI sin autorización, lo que podría significar una violación de sus términos de servicio.\n",
    "\n",
    "De acuerdo con un informe del *Financial Times* (2024), OpenAI ha encontrado pruebas que sugieren que DeepSeek habría empleado modelos propietarios de la compañía estadounidense para desarrollar su propia inteligencia artificial de código abierto. OpenAI detectó accesos sospechosos a su API por parte de cuentas vinculadas a DeepSeek y, tras una investigación, las bloqueó por posible violación de sus normas de uso. Aunque OpenAI no ha proporcionado detalles específicos sobre las pruebas recopiladas, ha manifestado su preocupación por la creciente amenaza a la propiedad intelectual dentro del sector de la IA. En paralelo, OpenAI enfrenta litigios relacionados con derechos de autor, con medios como *The New York Times* y autores que denuncian el uso no autorizado de sus contenidos en el entrenamiento de modelos de IA (Handelsblatt, 2024).\n",
    "\n",
    "### 2. Costo de entrenamiento\n",
    "\n",
    "DeepSeek declaró que el costo de entrenamiento de su modelo R1 fue de aproximadamente 5,6 millones de dólares, empleando alrededor de 2.048 GPUs H800 en un período de dos meses. No obstante, análisis independientes sugieren que el costo real podría haber sido mucho mayor. Según un informe de *SemiAnalysis* (2024), la infraestructura utilizada por DeepSeek podría haber incluido hasta 50.000 GPUs NVIDIA, con una inversión total cercana a los 1.600 millones de dólares.\n",
    "\n",
    "### 3. Relación con la elección del nuevo presidente de los Estados Unidos\n",
    "\n",
    "El impacto de DeepSeek en el mercado de la IA ha generado reacciones en el ámbito político de Estados Unidos. De acuerdo con el *Handelsblatt* (2024), este avance podría afectar la administración de Donald Trump, ya que representa un éxito estratégico para China. Se argumenta que DeepSeek ha logrado superar en eficiencia a gigantes tecnológicos como OpenAI, Google y Meta, desafiando el dominio estadounidense en inteligencia artificial. Se especula que esta situación es resultado de la política proteccionista de Estados Unidos en los últimos años, que llevó a sus competidores a buscar alternativas tecnológicas fuera del alcance de las restricciones comerciales.\n",
    "\n",
    "El *Stuttgarter Nachrichten* (2024) refuerza esta postura al señalar que DeepSeek no solo representa una competencia seria para las empresas de IA de Estados Unidos, sino que también ha demostrado que la entrada en este mercado no requiere inversiones exorbitantes. Además, se ha informado que DeepSeek ha sido blanco de ataques de denegación de servicio distribuido (DDoS) y de intentos de acceso no autorizado, lo que indica una escalada en la competencia global por el liderazgo en inteligencia artificial.\n",
    "\n",
    "### 4. GPUs utilizadas\n",
    "\n",
    "Para el entrenamiento de sus modelos, DeepSeek ha recurrido principalmente a GPUs de NVIDIA, incluyendo los modelos H800 y H100. Aunque la empresa informó que empleó 2.048 GPUs H800, análisis independientes sugieren que su infraestructura podría ser significativamente mayor, con decenas de miles de unidades operativas en sus centros de datos (SemiAnalysis, 2024).\n",
    "\n",
    "### Referencias\n",
    "\n",
    "- *DW* (2024). DeepSeek podría afectar a toda la presidencia de Trump.\n",
    "- *Financial Times* (2024). OpenAI accuses DeepSeek of AI model theft.\n",
    "- *Handelsblatt* (2024). China's AI breakthrough challenges U.S. dominance.\n",
    "- *Stuttgarter Nachrichten* (2024). DeepSeek disrupts global AI market.\n",
    "- *SemiAnalysis* (2024). DeepSeek's real training costs revealed.\n",
    "- *The New York Times* (2024). OpenAI faces copyright lawsuits over training data."
   ]
  }
 ],
 "metadata": {
  "kernelspec": {
   "display_name": "Python 3",
   "language": "python",
   "name": "python3"
  },
  "language_info": {
   "codemirror_mode": {
    "name": "ipython",
    "version": 3
   },
   "file_extension": ".py",
   "mimetype": "text/x-python",
   "name": "python",
   "nbconvert_exporter": "python",
   "pygments_lexer": "ipython3",
   "version": "3.13.1"
  }
 },
 "nbformat": 4,
 "nbformat_minor": 2
}
