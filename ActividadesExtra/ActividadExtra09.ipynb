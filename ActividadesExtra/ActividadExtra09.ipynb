{
 "cells": [
  {
   "cell_type": "raw",
   "metadata": {
    "vscode": {
     "languageId": "raw"
    }
   },
   "source": [
    "---\n",
    "lang: es\n",
    "format:\n",
    "    pdf:\n",
    "        toc: false\n",
    "execute:\n",
    "    echo: true\n",
    "    error: false\n",
    "    warning: false\n",
    "jupyter: python3\n",
    "---"
   ]
  },
  {
   "cell_type": "markdown",
   "metadata": {},
   "source": [
    "# Actividad Extra 09"
   ]
  },
  {
   "cell_type": "markdown",
   "metadata": {},
   "source": [
    "## Resumen de la función atan2\n",
    "\n",
    "La función **atan2(y, x)** es una función matemática que calcula el ángulo en radianes entre el eje x positivo y el vector resultante del punto `(x, y)`. A diferencia de la función **atan(y/x)**, **atan2** toma directamente las coordenadas del vector (o punto) y determina el ángulo correcto teniendo en cuenta el cuadrante en el que se encuentra. Esto significa que **atan2** no solo considera la razón `y/x`, sino también el signo y la magnitud de `x` y `y`, lo que permite identificar el cuadrante apropiado del ángulo resultante.\n"
   ]
  },
  {
   "cell_type": "markdown",
   "metadata": {},
   "source": [
    "## ¿Por qué se recomienda usar la función atan2?\n",
    "\n",
    "La función **atan2** es la forma recomendada para calcular ángulos a partir de coordenadas cartesianas porque:\n",
    "\n",
    "1. **Desambiguación de cuadrantes:** `atan2` determina el ángulo correcto en cualquiera de los cuatro cuadrantes, evitando ambigüedades que `atan` no resuelve por sí misma.\n",
    "2. **Manejo de casos especiales:** `atan2` maneja de forma correcta casos donde `x = 0`, evitando divisiones por cero e indefiniciones.\n",
    "3. **Robustez numérica:** `atan2` es más estable numéricamente cuando se trabaja con datos provenientes de cálculos geométricos o señales, ya que no se ve afectada por las posibles imprecisiones de flotantes al separar el cálculo en `atan(y/x)`.\n"
   ]
  },
  {
   "cell_type": "markdown",
   "metadata": {},
   "source": [
    "## Diferencias entre `atan` y `atan2`\n",
    "\n",
    "1. **Argumentos:**  \n",
    "   - `atan(y/x)` toma un solo argumento (la razón entre y y x).  \n",
    "   - `atan2(y, x)` toma dos argumentos separados: `y` y `x`.\n",
    "   \n",
    "2. **Rango de salida:**  \n",
    "   - `atan(y/x)` devuelve un valor entre `(-\\pi/2, \\pi/2)`.  \n",
    "   - `atan2(y, x)` devuelve un valor entre `(-\\pi, \\pi)`.\n",
    "   \n",
    "3. **Identificación del cuadrante:**  \n",
    "   - `atan(y/x)` no puede distinguir de qué lado del eje x proviene el vector.  \n",
    "   - `atan2(y, x)` sí puede identificar el cuadrante exacto del punto (x, y) ya que conoce ambos valores.\n",
    "   \n",
    "4. **Manejo de casos especiales:**  \n",
    "   - `atan(y/x)` falla cuando `x = 0`.  \n",
    "   - `atan2(y, x)` maneja estos casos directamente.\n"
   ]
  },
  {
   "cell_type": "markdown",
   "metadata": {},
   "source": [
    "## Ejemplos en Python\n"
   ]
  },
  {
   "cell_type": "code",
   "execution_count": 1,
   "metadata": {},
   "outputs": [
    {
     "name": "stdout",
     "output_type": "stream",
     "text": [
      "Ángulo para (1,1): 0.7853981633974483 radianes\n"
     ]
    }
   ],
   "source": [
    "import math\n",
    "\n",
    "# Punto en el primer cuadrante (x > 0, y > 0)\n",
    "x1, y1 = 1, 1\n",
    "angulo1 = math.atan2(y1, x1)\n",
    "print(\"Ángulo para (1,1):\", angulo1, \"radianes\")\n"
   ]
  },
  {
   "cell_type": "code",
   "execution_count": 5,
   "metadata": {},
   "outputs": [
    {
     "name": "stdout",
     "output_type": "stream",
     "text": [
      "Ángulo para (-1,1): 2.356194490192345 radianes\n"
     ]
    }
   ],
   "source": [
    "# Punto en el segundo cuadrante (x < 0, y > 0)\n",
    "x2, y2 = -1, 1\n",
    "angulo2 = math.atan2(y2, x2)\n",
    "print(\"Ángulo para (-1,1):\", angulo2, \"radianes\")\n"
   ]
  },
  {
   "cell_type": "code",
   "execution_count": 4,
   "metadata": {},
   "outputs": [
    {
     "name": "stdout",
     "output_type": "stream",
     "text": [
      "Ángulo para (-1,-1): -2.356194490192345 radianes\n"
     ]
    }
   ],
   "source": [
    "# Punto en el tercer cuadrante (x < 0, y < 0)\n",
    "x3, y3 = -1, -1\n",
    "angulo3 = math.atan2(y3, x3)\n",
    "print(\"Ángulo para (-1,-1):\", angulo3, \"radianes\")\n"
   ]
  },
  {
   "cell_type": "code",
   "execution_count": 3,
   "metadata": {},
   "outputs": [
    {
     "name": "stdout",
     "output_type": "stream",
     "text": [
      "Ángulo para (1,-1): -0.7853981633974483 radianes\n"
     ]
    }
   ],
   "source": [
    "# Punto en el cuarto cuadrante (x > 0, y < 0)\n",
    "x4, y4 = 1, -1\n",
    "angulo4 = math.atan2(y4, x4)\n",
    "print(\"Ángulo para (1,-1):\", angulo4, \"radianes\")\n"
   ]
  },
  {
   "cell_type": "code",
   "execution_count": 2,
   "metadata": {},
   "outputs": [
    {
     "name": "stdout",
     "output_type": "stream",
     "text": [
      "Ángulo para (0,5): 1.5707963267948966 radianes\n",
      "Ángulo para (0,-5): -1.5707963267948966 radianes\n"
     ]
    }
   ],
   "source": [
    "# Casos especiales con x = 0\n",
    "x5, y5 = 0, 5\n",
    "angulo5 = math.atan2(y5, x5)\n",
    "print(\"Ángulo para (0,5):\", angulo5, \"radianes\")\n",
    "\n",
    "# Otro caso especial con x = 0\n",
    "x6, y6 = 0, -5\n",
    "angulo6 = math.atan2(y6, x6)\n",
    "print(\"Ángulo para (0,-5):\", angulo6, \"radianes\")\n"
   ]
  }
 ],
 "metadata": {
  "kernelspec": {
   "display_name": "Python 3",
   "language": "python",
   "name": "python3"
  },
  "language_info": {
   "codemirror_mode": {
    "name": "ipython",
    "version": 3
   },
   "file_extension": ".py",
   "mimetype": "text/x-python",
   "name": "python",
   "nbconvert_exporter": "python",
   "pygments_lexer": "ipython3",
   "version": "3.13.1"
  }
 },
 "nbformat": 4,
 "nbformat_minor": 2
}
