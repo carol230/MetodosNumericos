{
 "cells": [
  {
   "cell_type": "raw",
   "metadata": {},
   "source": [
    "---\n",
    "lang: es\n",
    "format:\n",
    "    pdf:\n",
    "        toc: false\n",
    "        toc-title: \"Tabla de Contenidos\"\n",
    "execute:\n",
    "    echo: true\n",
    "    error: false\n",
    "    warning: false\n",
    "jupyter: python3\n",
    "\n",
    "---"
   ]
  },
  {
   "cell_type": "markdown",
   "metadata": {},
   "source": [
    "| ESCUELA POLITÉCNICA NACIONAL  |                              | Tarea No. |\n",
    "|-------------------------------|------------------------------|--------------|\n",
    "| **Metodos Numericos – Computación**     | | **11**        |\n",
    "| NOMBRE: Ivonne Carolina Ayala |                              |              |\n"
   ]
  },
  {
   "cell_type": "markdown",
   "metadata": {},
   "source": [
    "# [Tarea 11] Ejercicios Unidad 04-D | Gauss-Jacobi y Gauss-Seidel\n",
    "## Resuelva los ejercicios adjuntos."
   ]
  },
  {
   "cell_type": "markdown",
   "metadata": {},
   "source": [
    "### Encuentre las primeras dos iteraciones del método de Jacobi para los siguientes sistemas lineales, por medio de $\\mathbf{x}^{(0)} = 0$:\n"
   ]
  },
  {
   "cell_type": "code",
   "execution_count": 76,
   "metadata": {},
   "outputs": [],
   "source": [
    "import numpy as np\n",
    "\n",
    "def jacobi_method_tolerance(A, b, x0, iteraciones, tolerancia):\n",
    "    D = np.diag(np.diag(A))\n",
    "    R = A - D\n",
    "    x = x0\n",
    "    \n",
    "    for i in range(iteraciones):\n",
    "        x_new = np.dot(np.linalg.inv(D), b - np.dot(R, x))\n",
    "        error = np.linalg.norm(x_new - x, ord=np.inf)\n",
    "        print(f\"Iteración {i+1}: x = {x_new}, Error = {error}\")\n",
    "        \n",
    "        if error < tolerancia:\n",
    "            print(f\"Convergencia alcanzada en la iteración {i+1} con error {error:.4e}.\\n\")\n",
    "            print(f\"Solución final: x = {x_new}\\n\")\n",
    "            return x_new\n",
    "        x = x_new\n",
    "    \n",
    "    print(f\"No se alcanzó la tolerancia después de {iteraciones} iteraciones.\")\n",
    "    print(f\"Solución aproximada: x = {x}\")\n",
    "\n",
    "tolerancia = 1e-6"
   ]
  },
  {
   "cell_type": "markdown",
   "metadata": {},
   "source": [
    "**a.**\n",
    "$$\n",
    "\\begin{aligned}\n",
    "3x_1 - x_2 + x_3 &= 1, \\\\\n",
    "3x_1 + 6x_2 + 2x_3 &= 0, \\\\\n",
    "3x_1 + 3x_2 + 7x_3 &= 4.\n",
    "\\end{aligned}\n",
    "$$"
   ]
  },
  {
   "cell_type": "code",
   "execution_count": 60,
   "metadata": {},
   "outputs": [
    {
     "name": "stdout",
     "output_type": "stream",
     "text": [
      "Iteración 1: x = [0.33333333 0.         0.57142857], Error = 0.5714285714285714\n",
      "Iteración 2: x = [ 0.14285714 -0.35714286  0.42857143], Error = 0.3571428571428571\n",
      "No se alcanzó la tolerancia después de 2 iteraciones.\n",
      "Solución aproximada: x = [ 0.14285714 -0.35714286  0.42857143]\n"
     ]
    }
   ],
   "source": [
    "A = np.array([\n",
    "    [3, -1, 1],\n",
    "    [3, 6, 2],\n",
    "    [3, 3, 7]\n",
    "])\n",
    "b = np.array([1, 0, 4])\n",
    "x0 = np.zeros(3)\n",
    "jacobi_method_tolerance(A, b, x0, 2, tolerancia)"
   ]
  },
  {
   "cell_type": "markdown",
   "metadata": {
    "vscode": {
     "languageId": "raw"
    }
   },
   "source": [
    "**b.**\n",
    "$$\n",
    "\\begin{aligned}\n",
    "10x_1 - x_2 &= 9, \\\\\n",
    "-x_1 + 10x_2 - 2x_3 &= 7, \\\\\n",
    "-2x_2 + 10x_3 &= 6.\n",
    "\\end{aligned}\n",
    "$$"
   ]
  },
  {
   "cell_type": "code",
   "execution_count": 61,
   "metadata": {},
   "outputs": [
    {
     "name": "stdout",
     "output_type": "stream",
     "text": [
      "Iteración 1: x = [0.9 0.7 0.6], Error = 0.9\n",
      "Iteración 2: x = [0.97 0.91 0.74], Error = 0.20999999999999996\n",
      "No se alcanzó la tolerancia después de 2 iteraciones.\n",
      "Solución aproximada: x = [0.97 0.91 0.74]\n"
     ]
    }
   ],
   "source": [
    "A = np.array([\n",
    "    [10, -1, 0],\n",
    "    [-1, 10, -2],\n",
    "    [0, -2, 10]\n",
    "])\n",
    "b = np.array([9, 7, 6])\n",
    "x0 = np.zeros(3)\n",
    "jacobi_method_tolerance(A, b, x0, 2, tolerancia)"
   ]
  },
  {
   "cell_type": "markdown",
   "metadata": {
    "vscode": {
     "languageId": "raw"
    }
   },
   "source": [
    "**c.**\n",
    "$$\n",
    "\\begin{aligned}\n",
    "10x_1 + 5x_2 &= 6, \\\\\n",
    "5x_1 + 10x_2 - 4x_3 &= 25, \\\\\n",
    "-4x_2 + 8x_3 - x_4 &= -11, \\\\\n",
    "-x_3 + 5x_4 &= -11.\n",
    "\\end{aligned}\n",
    "$$"
   ]
  },
  {
   "cell_type": "code",
   "execution_count": 65,
   "metadata": {},
   "outputs": [
    {
     "name": "stdout",
     "output_type": "stream",
     "text": [
      "Iteración 1: x = [ 0.6    2.5   -1.375 -2.2  ], Error = 2.5\n",
      "Iteración 2: x = [-0.65   1.65  -0.4   -2.475], Error = 1.25\n",
      "No se alcanzó la tolerancia después de 2 iteraciones.\n",
      "Solución aproximada: x = [-0.65   1.65  -0.4   -2.475]\n"
     ]
    }
   ],
   "source": [
    "A = np.array([\n",
    "    [10, 5, 0, 0],\n",
    "    [5, 10, -4, 0],\n",
    "    [0, -4, 8, -1],\n",
    "    [0, 0, -1, 5]\n",
    "])\n",
    "b = np.array([6, 25, -11, -11])\n",
    "x0 = np.zeros(4)\n",
    "jacobi_method_tolerance(A, b, x0, 2, tolerancia)"
   ]
  },
  {
   "cell_type": "markdown",
   "metadata": {},
   "source": [
    "**d.**\n",
    "$$\n",
    "\\begin{aligned}\n",
    "4x_1 + x_2 + x_3 + x_5 &= 6, \\\\\n",
    "-x_1 - 3x_2 + x_3 + x_4 &= 6, \\\\\n",
    "2x_1 + x_2 + 5x_3 - x_4 - x_5 &= 6, \\\\\n",
    "-x_1 - x_2 - x_3 + 4x_4 &= 6, \\\\\n",
    "2x_2 - x_3 + x_4 + 4x_5 &= 6.\n",
    "\\end{aligned}\n",
    "$$"
   ]
  },
  {
   "cell_type": "code",
   "execution_count": 64,
   "metadata": {},
   "outputs": [
    {
     "name": "stdout",
     "output_type": "stream",
     "text": [
      "Iteración 1: x = [ 1.5 -2.   1.2  1.5  1.5], Error = 2.0\n",
      "Iteración 2: x = [ 0.95  -1.6    1.6    0.475  1.45 ], Error = 1.0250000000000001\n",
      "No se alcanzó la tolerancia después de 2 iteraciones.\n",
      "Solución aproximada: x = [ 0.95  -1.6    1.6    0.475  1.45 ]\n"
     ]
    }
   ],
   "source": [
    "A = np.array([\n",
    "    [4, 1, 1, 1, 1],\n",
    "    [-1, -3, 1, 1, 0],\n",
    "    [2, 1, 5, -1, -1],\n",
    "    [-1, -1, 3, 4, 0],\n",
    "    [2, 2, 1, 0, 4]\n",
    "])\n",
    "b = np.array([6, 6, 6, 6, 6])\n",
    "x0 = np.zeros(5)\n",
    "jacobi_method_tolerance(A, b, x0, 2, tolerancia)"
   ]
  },
  {
   "cell_type": "markdown",
   "metadata": {},
   "source": [
    "### 2. Repita el ejercicio 1 usando el método de Gauss-Siedel."
   ]
  },
  {
   "cell_type": "code",
   "execution_count": 66,
   "metadata": {},
   "outputs": [],
   "source": [
    "def gauss_seidel_method(A, b, x0, iteraciones, tolerancia):\n",
    "    n = len(b)\n",
    "    x = x0.copy()\n",
    "    \n",
    "    for k in range(iteraciones):\n",
    "        x_new = x.copy()\n",
    "        for i in range(n):\n",
    "            suma = sum(A[i, j] * x_new[j] for j in range(n) if j != i)\n",
    "            x_new[i] = (b[i] - suma) / A[i, i]\n",
    "        \n",
    "        error = np.linalg.norm(x_new - x, ord=np.inf)\n",
    "        print(f\"Iteración {k+1}: x = {x_new}, Error = {error}\")\n",
    "        \n",
    "        if error < tolerancia:\n",
    "            print(f\"Convergencia alcanzada en la iteración {k+1} con error {error:.4e}.\\n\")\n",
    "            print(f\"Solución final: x = {x_new}\\n\")\n",
    "            return x_new\n",
    "        x = x_new\n",
    "    \n",
    "    print(f\"No se alcanzó la tolerancia después de {iteraciones} iteraciones.\")\n",
    "    print(f\"Solución aproximada: x = {x}\")\n",
    "\n",
    "tolerancia = 1e-6\n"
   ]
  },
  {
   "cell_type": "markdown",
   "metadata": {},
   "source": [
    "**a.**\n",
    "$$\n",
    "\\begin{aligned}\n",
    "3x_1 - x_2 + x_3 &= 1, \\\\\n",
    "3x_1 + 6x_2 + 2x_3 &= 0, \\\\\n",
    "3x_1 + 3x_2 + 7x_3 &= 4.\n",
    "\\end{aligned}\n",
    "$$"
   ]
  },
  {
   "cell_type": "code",
   "execution_count": 67,
   "metadata": {},
   "outputs": [
    {
     "name": "stdout",
     "output_type": "stream",
     "text": [
      "Iteración 1: x = [ 0.33333333 -0.16666667  0.5       ], Error = 0.5\n",
      "Iteración 2: x = [ 0.11111111 -0.22222222  0.61904762], Error = 0.2222222222222222\n",
      "No se alcanzó la tolerancia después de 2 iteraciones.\n",
      "Solución aproximada: x = [ 0.11111111 -0.22222222  0.61904762]\n"
     ]
    }
   ],
   "source": [
    "A = np.array([\n",
    "    [3, -1, 1],\n",
    "    [3, 6, 2],\n",
    "    [3, 3, 7]\n",
    "])\n",
    "b = np.array([1, 0, 4])\n",
    "x0 = np.zeros(3)\n",
    "gauss_seidel_method(A, b, x0, 2, tolerancia)"
   ]
  },
  {
   "cell_type": "markdown",
   "metadata": {},
   "source": [
    "**b.**\n",
    "$$\n",
    "\\begin{aligned}\n",
    "10x_1 - x_2 &= 9, \\\\\n",
    "-x_1 + 10x_2 - 2x_3 &= 7, \\\\\n",
    "-2x_2 + 10x_3 &= 6.\n",
    "\\end{aligned}\n",
    "$$"
   ]
  },
  {
   "cell_type": "code",
   "execution_count": 68,
   "metadata": {},
   "outputs": [
    {
     "name": "stdout",
     "output_type": "stream",
     "text": [
      "Iteración 1: x = [0.9   0.79  0.758], Error = 0.9\n",
      "Iteración 2: x = [0.979  0.9495 0.7899], Error = 0.1595000000000001\n",
      "No se alcanzó la tolerancia después de 2 iteraciones.\n",
      "Solución aproximada: x = [0.979  0.9495 0.7899]\n"
     ]
    }
   ],
   "source": [
    "A = np.array([\n",
    "    [10, -1, 0],\n",
    "    [-1, 10, -2],\n",
    "    [0, -2, 10]\n",
    "])\n",
    "b = np.array([9, 7, 6])\n",
    "x0 = np.zeros(3)\n",
    "gauss_seidel_method(A, b, x0, 2, tolerancia)\n"
   ]
  },
  {
   "cell_type": "markdown",
   "metadata": {},
   "source": [
    "**c.**\n",
    "$$\n",
    "\\begin{aligned}\n",
    "10x_1 + 5x_2 &= 6, \\\\\n",
    "5x_1 + 10x_2 - 4x_3 &= 25, \\\\\n",
    "-4x_2 + 8x_3 - x_4 &= -11, \\\\\n",
    "-x_3 + 5x_4 &= -11.\n",
    "\\end{aligned}\n",
    "$$"
   ]
  },
  {
   "cell_type": "code",
   "execution_count": 69,
   "metadata": {},
   "outputs": [
    {
     "name": "stdout",
     "output_type": "stream",
     "text": [
      "Iteración 1: x = [ 0.6    2.2   -0.275 -2.255], Error = 2.255\n",
      "Iteración 2: x = [-0.5       2.64     -0.336875 -2.267375], Error = 1.1\n",
      "No se alcanzó la tolerancia después de 2 iteraciones.\n",
      "Solución aproximada: x = [-0.5       2.64     -0.336875 -2.267375]\n"
     ]
    }
   ],
   "source": [
    "A = np.array([\n",
    "    [10, 5, 0, 0],\n",
    "    [5, 10, -4, 0],\n",
    "    [0, -4, 8, -1],\n",
    "    [0, 0, -1, 5]\n",
    "])\n",
    "b = np.array([6, 25, -11, -11])\n",
    "x0 = np.zeros(4)\n",
    "gauss_seidel_method(A, b, x0, 2, tolerancia)\n"
   ]
  },
  {
   "cell_type": "markdown",
   "metadata": {},
   "source": [
    "**d.**\n",
    "$$\n",
    "\\begin{aligned}\n",
    "4x_1 + x_2 + x_3 + x_5 &= 6, \\\\\n",
    "-x_1 - 3x_2 + x_3 + x_4 &= 6, \\\\\n",
    "2x_1 + x_2 + 5x_3 - x_4 - x_5 &= 6, \\\\\n",
    "-x_1 - x_2 - x_3 + 4x_4 &= 6, \\\\\n",
    "2x_2 - x_3 + x_4 + 4x_5 &= 6.\n",
    "\\end{aligned}\n",
    "$$"
   ]
  },
  {
   "cell_type": "code",
   "execution_count": 70,
   "metadata": {},
   "outputs": [
    {
     "name": "stdout",
     "output_type": "stream",
     "text": [
      "Iteración 1: x = [ 1.5   -2.5    1.1    0.425  1.725], Error = 2.5\n",
      "Iteración 2: x = [ 1.3125     -1.92916667  1.49083333  0.22770833  1.435625  ], Error = 0.5708333333333335\n",
      "No se alcanzó la tolerancia después de 2 iteraciones.\n",
      "Solución aproximada: x = [ 1.3125     -1.92916667  1.49083333  0.22770833  1.435625  ]\n"
     ]
    }
   ],
   "source": [
    "A = np.array([\n",
    "    [4, 1, 1, 1, 1],\n",
    "    [-1, -3, 1, 1, 0],\n",
    "    [2, 1, 5, -1, -1],\n",
    "    [-1, -1, 3, 4, 0],\n",
    "    [2, 2, 1, 0, 4]\n",
    "])\n",
    "b = np.array([6, 6, 6, 6, 6])\n",
    "x0 = np.zeros(5)\n",
    "gauss_seidel_method(A, b, x0, 2, tolerancia)\n"
   ]
  },
  {
   "cell_type": "markdown",
   "metadata": {},
   "source": [
    "### 3. Utilice el método de Jacobi para resolver los sistemas lineales en el ejercicio 1, con TOL = 10-3. "
   ]
  },
  {
   "cell_type": "code",
   "execution_count": 81,
   "metadata": {},
   "outputs": [],
   "source": [
    "tolerancia = 1e-3"
   ]
  },
  {
   "cell_type": "markdown",
   "metadata": {},
   "source": [
    "**a.**\n",
    "$$\n",
    "\\begin{aligned}\n",
    "3x_1 - x_2 + x_3 &= 1, \\\\\n",
    "3x_1 + 6x_2 + 2x_3 &= 0, \\\\\n",
    "3x_1 + 3x_2 + 7x_3 &= 4.\n",
    "\\end{aligned}\n",
    "$$"
   ]
  },
  {
   "cell_type": "code",
   "execution_count": 84,
   "metadata": {},
   "outputs": [
    {
     "name": "stdout",
     "output_type": "stream",
     "text": [
      "Iteración 1: x = [0.33333333 0.         0.57142857], Error = 0.5714285714285714\n",
      "Iteración 2: x = [ 0.14285714 -0.35714286  0.42857143], Error = 0.3571428571428571\n",
      "Iteración 3: x = [ 0.07142857 -0.21428571  0.66326531], Error = 0.23469387755102028\n",
      "Iteración 4: x = [ 0.04081633 -0.25680272  0.63265306], Error = 0.04251700680272108\n",
      "Iteración 5: x = [ 0.03684807 -0.23129252  0.66399417], Error = 0.031341107871720064\n",
      "Iteración 6: x = [ 0.03490444 -0.23975543  0.6547619 ], Error = 0.00923226433430513\n",
      "Iteración 7: x = [ 0.03516089 -0.23570619  0.65922185], Error = 0.0044599472442037325\n",
      "Iteración 8: x = [ 0.03502399 -0.23732106  0.65737656], Error = 0.0018452959415058423\n",
      "Iteración 9: x = [ 0.03510079 -0.23663751  0.65812732], Error = 0.0007507619179839553\n",
      "Convergencia alcanzada en la iteración 9 con error 7.5076e-04.\n",
      "\n",
      "Solución final: x = [ 0.03510079 -0.23663751  0.65812732]\n",
      "\n"
     ]
    }
   ],
   "source": [
    "A = np.array([\n",
    "    [3, -1, 1],\n",
    "    [3, 6, 2],\n",
    "    [3, 3, 7]\n",
    "])\n",
    "b = np.array([1, 0, 4])\n",
    "x0 = np.zeros(3)\n",
    "_ =jacobi_method_tolerance(A, b, x0, 50, tolerancia)"
   ]
  },
  {
   "cell_type": "markdown",
   "metadata": {},
   "source": [
    "**b.**\n",
    "$$\n",
    "\\begin{aligned}\n",
    "10x_1 - x_2 &= 9, \\\\\n",
    "-x_1 + 10x_2 - 2x_3 &= 7, \\\\\n",
    "-2x_2 + 10x_3 &= 6.\n",
    "\\end{aligned}\n",
    "$$"
   ]
  },
  {
   "cell_type": "code",
   "execution_count": 85,
   "metadata": {},
   "outputs": [
    {
     "name": "stdout",
     "output_type": "stream",
     "text": [
      "Iteración 1: x = [0.9 0.7 0.6], Error = 0.9\n",
      "Iteración 2: x = [0.97 0.91 0.74], Error = 0.20999999999999996\n",
      "Iteración 3: x = [0.991 0.945 0.782], Error = 0.041999999999999926\n",
      "Iteración 4: x = [0.9945 0.9555 0.789 ], Error = 0.010500000000000065\n",
      "Iteración 5: x = [0.99555 0.95725 0.7911 ], Error = 0.0020999999999999908\n",
      "Iteración 6: x = [0.995725 0.957775 0.79145 ], Error = 0.0005249999999999977\n",
      "Convergencia alcanzada en la iteración 6 con error 5.2500e-04.\n",
      "\n",
      "Solución final: x = [0.995725 0.957775 0.79145 ]\n",
      "\n"
     ]
    }
   ],
   "source": [
    "A = np.array([\n",
    "    [10, -1, 0],\n",
    "    [-1, 10, -2],\n",
    "    [0, -2, 10]\n",
    "])\n",
    "b = np.array([9, 7, 6])\n",
    "x0 = np.zeros(3)\n",
    "_ =jacobi_method_tolerance(A, b, x0, 50, tolerancia)\n"
   ]
  },
  {
   "cell_type": "markdown",
   "metadata": {},
   "source": [
    "**c.**\n",
    "$$\n",
    "\\begin{aligned}\n",
    "10x_1 + 5x_2 &= 6, \\\\\n",
    "5x_1 + 10x_2 - 4x_3 &= 25, \\\\\n",
    "-4x_2 + 8x_3 - x_4 &= -11, \\\\\n",
    "-x_3 + 5x_4 &= -11.\n",
    "\\end{aligned}\n",
    "$$"
   ]
  },
  {
   "cell_type": "code",
   "execution_count": 86,
   "metadata": {},
   "outputs": [
    {
     "name": "stdout",
     "output_type": "stream",
     "text": [
      "Iteración 1: x = [ 0.6    2.5   -1.375 -2.2  ], Error = 2.5\n",
      "Iteración 2: x = [-0.65   1.65  -0.4   -2.475], Error = 1.25\n",
      "Iteración 3: x = [-0.225     2.665    -0.859375 -2.28    ], Error = 1.015\n",
      "Iteración 4: x = [-0.7325    2.26875  -0.3275   -2.371875], Error = 0.5318749999999999\n",
      "Iteración 5: x = [-0.534375    2.73525    -0.53710937 -2.2655    ], Error = 0.4664999999999999\n",
      "Iteración 6: x = [-0.767625    2.55234375 -0.2905625  -2.30742188], Error = 0.24654687499999983\n",
      "Iteración 7: x = [-0.67617188  2.7675875  -0.38725586 -2.2581125 ], Error = 0.21524374999999996\n",
      "Iteración 8: x = [-0.78379375  2.68318359 -0.27347031 -2.27745117], Error = 0.11378554687500009\n",
      "Iteración 9: x = [-0.7415918   2.78250875 -0.3180896  -2.25469406], Error = 0.09932515624999994\n",
      "Iteración 10: x = [-0.79125438  2.74356006 -0.26558238 -2.26361792], Error = 0.05250721679687498\n",
      "Iteración 11: x = [-0.77178003  2.78939423 -0.28617221 -2.25311648], Error = 0.04583417578125015\n",
      "Iteración 12: x = [-0.79469712  2.77142113 -0.26194244 -2.25723444], Error = 0.024229768310547017\n",
      "Iteración 13: x = [-0.78571057  2.79257158 -0.27144374 -2.25238849], Error = 0.021150451269531523\n",
      "Iteración 14: x = [-0.79628579  2.78427779 -0.26026277 -2.25428875], Error = 0.011180969842529587\n",
      "Iteración 15: x = [-0.79213889  2.79403779 -0.2646472  -2.25205255], Error = 0.009760000754394316\n",
      "Iteración 16: x = [-0.79701889  2.79021057 -0.25948768 -2.25292944], Error = 0.005159524623260303\n",
      "Iteración 17: x = [-0.79510528  2.79471438 -0.2615109  -2.25189754], Error = 0.004503810037902678\n",
      "Iteración 18: x = [-0.79735719  2.79294828 -0.25913    -2.25230218], Error = 0.0023808931345328244\n",
      "Iteración 19: x = [-0.79647414  2.79502659 -0.26006363 -2.251826  ], Error = 0.0020783097632888214\n",
      "Iteración 20: x = [-0.7975133   2.79421162 -0.25896495 -2.25201273], Error = 0.0010986772100076703\n",
      "Iteración 21: x = [-0.79710581  2.79517067 -0.25939578 -2.25179299], Error = 0.0009590483248249626\n",
      "Convergencia alcanzada en la iteración 21 con error 9.5905e-04.\n",
      "\n",
      "Solución final: x = [-0.79710581  2.79517067 -0.25939578 -2.25179299]\n",
      "\n"
     ]
    }
   ],
   "source": [
    "A = np.array([\n",
    "    [10, 5, 0, 0],\n",
    "    [5, 10, -4, 0],\n",
    "    [0, -4, 8, -1],\n",
    "    [0, 0, -1, 5]\n",
    "])\n",
    "b = np.array([6, 25, -11, -11])\n",
    "x0 = np.zeros(4)\n",
    "_ =jacobi_method_tolerance(A, b, x0, 50, tolerancia)\n"
   ]
  },
  {
   "cell_type": "markdown",
   "metadata": {},
   "source": [
    "**d.**\n",
    "$$\n",
    "\\begin{aligned}\n",
    "4x_1 + x_2 + x_3 + x_5 &= 6, \\\\\n",
    "-x_1 - 3x_2 + x_3 + x_4 &= 6, \\\\\n",
    "2x_1 + x_2 + 5x_3 - x_4 - x_5 &= 6, \\\\\n",
    "-x_1 - x_2 - x_3 + 4x_4 &= 6, \\\\\n",
    "2x_2 - x_3 + x_4 + 4x_5 &= 6.\n",
    "\\end{aligned}\n",
    "$$"
   ]
  },
  {
   "cell_type": "code",
   "execution_count": 87,
   "metadata": {},
   "outputs": [
    {
     "name": "stdout",
     "output_type": "stream",
     "text": [
      "Iteración 1: x = [ 1.5 -2.   1.2  1.5  1.5], Error = 2.0\n",
      "Iteración 2: x = [ 0.95  -1.6    1.6    0.475  1.45 ], Error = 1.0250000000000001\n",
      "Iteración 3: x = [ 1.01875 -1.625    1.525    0.1375   1.425  ], Error = 0.3374999999999999\n",
      "Iteración 4: x = [ 1.134375   -1.78541667  1.43        0.2046875   1.421875  ], Error = 0.16041666666666665\n",
      "Iteración 5: x = [ 1.18221354 -1.83322917  1.42864583  0.26473958  1.46802083], Error = 0.06005208333333334\n",
      "Iteración 6: x = [ 1.16795573 -1.82960937  1.4403125   0.26576172  1.46834635], Error = 0.014257812499999911\n",
      "Iteración 7: x = [ 1.1637972  -1.82062717  1.4455612   0.25435221  1.4707487 ], Error = 0.01140950520833317\n",
      "Iteración 8: x = [ 1.16249127 -1.8212946   1.44362674  0.25162161  1.46702469], Error = 0.0037240125868054363\n",
      "Iteración 9: x = [ 1.16475539 -1.82241431  1.44299167  0.25257912  1.46849498], Error = 0.0022641262478297897\n",
      "Iteración 10: x = [ 1.16458713 -1.82306153  1.44279552  0.25334152  1.46808154], Error = 0.0007624020046654856\n",
      "Convergencia alcanzada en la iteración 10 con error 7.6240e-04.\n",
      "\n",
      "Solución final: x = [ 1.16458713 -1.82306153  1.44279552  0.25334152  1.46808154]\n",
      "\n"
     ]
    }
   ],
   "source": [
    "A = np.array([\n",
    "    [4, 1, 1, 1, 1],\n",
    "    [-1, -3, 1, 1, 0],\n",
    "    [2, 1, 5, -1, -1],\n",
    "    [-1, -1, 3, 4, 0],\n",
    "    [2, 2, 1, 0, 4]\n",
    "])\n",
    "b = np.array([6, 6, 6, 6, 6])\n",
    "x0 = np.zeros(5)\n",
    "_ =jacobi_method_tolerance(A, b, x0, 50, tolerancia)\n"
   ]
  },
  {
   "cell_type": "markdown",
   "metadata": {},
   "source": [
    "### 4. Utilice el método de Gauss-Siedel para resolver los sistemas lineales en el ejercicio 1, con TOL = 10-3. "
   ]
  },
  {
   "cell_type": "markdown",
   "metadata": {},
   "source": [
    "**a.**\n",
    "$$\n",
    "\\begin{aligned}\n",
    "3x_1 - x_2 + x_3 &= 1, \\\\\n",
    "3x_1 + 6x_2 + 2x_3 &= 0, \\\\\n",
    "3x_1 + 3x_2 + 7x_3 &= 4.\n",
    "\\end{aligned}\n",
    "$$"
   ]
  },
  {
   "cell_type": "code",
   "execution_count": 88,
   "metadata": {},
   "outputs": [
    {
     "name": "stdout",
     "output_type": "stream",
     "text": [
      "Iteración 1: x = [ 0.33333333 -0.16666667  0.5       ], Error = 0.5\n",
      "Iteración 2: x = [ 0.11111111 -0.22222222  0.61904762], Error = 0.2222222222222222\n",
      "Iteración 3: x = [ 0.05291005 -0.23280423  0.64852608], Error = 0.05820105820105818\n",
      "Iteración 4: x = [ 0.03955656 -0.23595364  0.65559875], Error = 0.013353489543965757\n",
      "Iteración 5: x = [ 0.0361492  -0.23660752  0.65733928], Error = 0.003407359416429702\n",
      "Iteración 6: x = [ 0.03535107 -0.23678863  0.65775895], Error = 0.0007981356647807844\n",
      "Convergencia alcanzada en la iteración 6 con error 7.9814e-04.\n",
      "\n",
      "Solución final: x = [ 0.03535107 -0.23678863  0.65775895]\n",
      "\n"
     ]
    }
   ],
   "source": [
    "A = np.array([\n",
    "    [3, -1, 1],\n",
    "    [3, 6, 2],\n",
    "    [3, 3, 7]\n",
    "])\n",
    "b = np.array([1, 0, 4])\n",
    "x0 = np.zeros(3)\n",
    "_ =gauss_seidel_method(A, b, x0, 50, tolerancia)"
   ]
  },
  {
   "cell_type": "markdown",
   "metadata": {},
   "source": [
    "**b.**\n",
    "$$\n",
    "\\begin{aligned}\n",
    "10x_1 - x_2 &= 9, \\\\\n",
    "-x_1 + 10x_2 - 2x_3 &= 7, \\\\\n",
    "-2x_2 + 10x_3 &= 6.\n",
    "\\end{aligned}\n",
    "$$"
   ]
  },
  {
   "cell_type": "code",
   "execution_count": 89,
   "metadata": {},
   "outputs": [
    {
     "name": "stdout",
     "output_type": "stream",
     "text": [
      "Iteración 1: x = [0.9   0.79  0.758], Error = 0.9\n",
      "Iteración 2: x = [0.979  0.9495 0.7899], Error = 0.1595000000000001\n",
      "Iteración 3: x = [0.99495  0.957475 0.791495], Error = 0.01595000000000013\n",
      "Iteración 4: x = [0.9957475  0.95787375 0.79157475], Error = 0.0007975000000000065\n",
      "Convergencia alcanzada en la iteración 4 con error 7.9750e-04.\n",
      "\n",
      "Solución final: x = [0.9957475  0.95787375 0.79157475]\n",
      "\n"
     ]
    }
   ],
   "source": [
    "A = np.array([\n",
    "    [10, -1, 0],\n",
    "    [-1, 10, -2],\n",
    "    [0, -2, 10]\n",
    "])\n",
    "b = np.array([9, 7, 6])\n",
    "x0 = np.zeros(3)\n",
    "_ =gauss_seidel_method(A, b, x0, 50, tolerancia)\n"
   ]
  },
  {
   "cell_type": "markdown",
   "metadata": {},
   "source": [
    "**c.**\n",
    "$$\n",
    "\\begin{aligned}\n",
    "10x_1 + 5x_2 &= 6, \\\\\n",
    "5x_1 + 10x_2 - 4x_3 &= 25, \\\\\n",
    "-4x_2 + 8x_3 - x_4 &= -11, \\\\\n",
    "-x_3 + 5x_4 &= -11.\n",
    "\\end{aligned}\n",
    "$$"
   ]
  },
  {
   "cell_type": "code",
   "execution_count": 90,
   "metadata": {},
   "outputs": [
    {
     "name": "stdout",
     "output_type": "stream",
     "text": [
      "Iteración 1: x = [ 0.6    2.2   -0.275 -2.255], Error = 2.255\n",
      "Iteración 2: x = [-0.5       2.64     -0.336875 -2.267375], Error = 1.1\n",
      "Iteración 3: x = [-0.72        2.72525    -0.29579687 -2.25915938], Error = 0.21999999999999997\n",
      "Iteración 4: x = [-0.762625    2.76299375 -0.27589805 -2.25517961], Error = 0.04262499999999991\n",
      "Iteración 5: x = [-0.78149687  2.78038922 -0.26670284 -2.25334057], Error = 0.018871875000000093\n",
      "Iteración 6: x = [-0.79019461  2.78841617 -0.26245949 -2.2524919 ], Error = 0.008697734374999877\n",
      "Iteración 7: x = [-0.79420808  2.79212025 -0.26050136 -2.25210027], Error = 0.004013474609375067\n",
      "Iteración 8: x = [-0.79606012  2.79382952 -0.25959778 -2.25191956], Error = 0.0018520395996093342\n",
      "Iteración 9: x = [-0.79691476  2.79461827 -0.25918081 -2.25183616], Error = 0.0008546345935058763\n",
      "Convergencia alcanzada en la iteración 9 con error 8.5463e-04.\n",
      "\n",
      "Solución final: x = [-0.79691476  2.79461827 -0.25918081 -2.25183616]\n",
      "\n"
     ]
    }
   ],
   "source": [
    "A = np.array([\n",
    "    [10, 5, 0, 0],\n",
    "    [5, 10, -4, 0],\n",
    "    [0, -4, 8, -1],\n",
    "    [0, 0, -1, 5]\n",
    "])\n",
    "b = np.array([6, 25, -11, -11])\n",
    "x0 = np.zeros(4)\n",
    "_ =gauss_seidel_method(A, b, x0, 50, tolerancia)\n"
   ]
  },
  {
   "cell_type": "markdown",
   "metadata": {},
   "source": [
    "**d.**\n",
    "$$\n",
    "\\begin{aligned}\n",
    "4x_1 + x_2 + x_3 + x_5 &= 6, \\\\\n",
    "-x_1 - 3x_2 + x_3 + x_4 &= 6, \\\\\n",
    "2x_1 + x_2 + 5x_3 - x_4 - x_5 &= 6, \\\\\n",
    "-x_1 - x_2 - x_3 + 4x_4 &= 6, \\\\\n",
    "2x_2 - x_3 + x_4 + 4x_5 &= 6.\n",
    "\\end{aligned}\n",
    "$$"
   ]
  },
  {
   "cell_type": "code",
   "execution_count": 92,
   "metadata": {},
   "outputs": [
    {
     "name": "stdout",
     "output_type": "stream",
     "text": [
      "Iteración 1: x = [ 1.5   -2.5    1.1    0.425  1.725], Error = 2.5\n",
      "Iteración 2: x = [ 1.3125     -1.92916667  1.49083333  0.22770833  1.435625  ], Error = 0.5708333333333335\n",
      "Iteración 3: x = [ 1.19375    -1.82506944  1.42018056  0.27703472  1.46061458], Error = 0.11874999999999991\n",
      "Iteración 4: x = [ 1.1668099  -1.82319821  1.44544554  0.25181876  1.46683277], Error = 0.02694010416666659\n",
      "Iteración 5: x = [ 1.16477528 -1.82250366  1.44232093  0.25382721  1.46828396], Error = 0.0031246185378086544\n",
      "Iteración 6: x = [ 1.16451789 -1.82278992  1.44317306  0.2530522   1.46834275], Error = 0.000852135432741763\n",
      "Convergencia alcanzada en la iteración 6 con error 8.5214e-04.\n",
      "\n",
      "Solución final: x = [ 1.16451789 -1.82278992  1.44317306  0.2530522   1.46834275]\n",
      "\n"
     ]
    }
   ],
   "source": [
    "A = np.array([\n",
    "    [4, 1, 1, 1, 1],\n",
    "    [-1, -3, 1, 1, 0],\n",
    "    [2, 1, 5, -1, -1],\n",
    "    [-1, -1, 3, 4, 0],\n",
    "    [2, 2, 1, 0, 4]\n",
    "])\n",
    "b = np.array([6, 6, 6, 6, 6])\n",
    "x0 = np.zeros(5)\n",
    "_ =gauss_seidel_method(A, b, x0, 50, tolerancia)\n"
   ]
  }
 ],
 "metadata": {
  "kernelspec": {
   "display_name": "Python 3",
   "language": "python",
   "name": "python3"
  },
  "language_info": {
   "codemirror_mode": {
    "name": "ipython",
    "version": 3
   },
   "file_extension": ".py",
   "mimetype": "text/x-python",
   "name": "python",
   "nbconvert_exporter": "python",
   "pygments_lexer": "ipython3",
   "version": "3.13.1"
  }
 },
 "nbformat": 4,
 "nbformat_minor": 2
}
