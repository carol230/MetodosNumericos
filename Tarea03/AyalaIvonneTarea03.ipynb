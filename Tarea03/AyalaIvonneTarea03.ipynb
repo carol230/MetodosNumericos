{
 "cells": [
  {
   "cell_type": "markdown",
   "metadata": {
    "vscode": {
     "languageId": "raw"
    }
   },
   "source": [
    "| ESCUELA POLITÉCNICA NACIONAL  |                              | Tarea No. |\n",
    "|-------------------------------|------------------------------|--------------|\n",
    "| **Metodos Numericos – Computación**     | | **3**        |\n",
    "| NOMBRE: Ivonne Carolina Ayala |                              |              |\n",
    "\n",
    "## Algoritmos y convergencia"
   ]
  },
  {
   "cell_type": "markdown",
   "metadata": {},
   "source": [
    "### 1.3.2. Serie de Maclaurin para la función arcotangente\n",
    "\n",
    "La serie de Maclaurin para la función arcotangente converge para $-1 < x \\leq 1$ y está dada por:\n",
    "\n",
    "$$\n",
    "\\arctan(x) = \\lim_{n \\to \\infty} P_n(x) = \\lim_{n \\to \\infty} \\sum_{i=1}^{n} \\frac{(-1)^{i+1} x^{2i-1}}{2i-1}\n",
    "$$\n",
    "\n",
    "#### a. Determinación del número de términos para alcanzar una precisión\n",
    "\n",
    "Utilice el hecho de que $\\tan(\\pi/4) = 1$ para determinar el número $n$ de términos de la serie que se necesita sumar para garantizar que:\n",
    "\n",
    "$$\n",
    "|4P_n(1) - \\pi| < 10^{-3}\n",
    "$$\n"
   ]
  },
  {
   "cell_type": "code",
   "execution_count": 23,
   "metadata": {},
   "outputs": [
    {
     "name": "stdout",
     "output_type": "stream",
     "text": [
      "Número de términos necesarios para alcanzar la precisión de 10^-3: 1000\n"
     ]
    }
   ],
   "source": [
    "import math\n",
    "\n",
    "def maclaurin_arctan_approx(n):\n",
    "    return sum((-1)**(i + 1) / (2 * i - 1) for i in range(1, n + 1))\n",
    "\n",
    "n_terms = 0\n",
    "precision = 1e-3\n",
    "difference = 1\n",
    "\n",
    "while difference >= precision:\n",
    "    n_terms += 1\n",
    "    current_approximation = 4 * maclaurin_arctan_approx(n_terms)\n",
    "    difference = abs(current_approximation - math.pi)\n",
    "\n",
    "print(f\"Número de términos necesarios para alcanzar la precisión de 10^-3: {n_terms}\")\n"
   ]
  },
  {
   "cell_type": "markdown",
   "metadata": {},
   "source": [
    "##### b. El lenguaje de programación C++ requiere que el valor de $(\\pi)$ se encuentre dentro de $(10^{-6})$. ¿Cuántos términos de la serie se necesitarían sumar para obtener este grado de precisión?"
   ]
  },
  {
   "cell_type": "code",
   "execution_count": 26,
   "metadata": {},
   "outputs": [
    {
     "name": "stdout",
     "output_type": "stream",
     "text": [
      "Número de términos necesarios para alcanzar la precisión de 10^-6:2000001 \n"
     ]
    }
   ],
   "source": [
    "import math\n",
    "\n",
    "def calcular_pi(precision_deseada):\n",
    "    tolerancia = 0.5 * 10 ** (-precision_deseada)\n",
    "    suma = 0.0\n",
    "    n = 0\n",
    "    signo = 1\n",
    "    while True:\n",
    "        termino = signo / (2 * n + 1)\n",
    "        suma += termino\n",
    "        aproximacion = 4 * suma\n",
    "        error = abs(aproximacion - math.pi)\n",
    "        if error < tolerancia:\n",
    "            break\n",
    "        signo *= -1\n",
    "        n += 1\n",
    "    return n + 1, aproximacion\n",
    "\n",
    "precision_deseada = 6\n",
    "n_terminos, aproximacion = calcular_pi(precision_deseada)\n",
    "print(f\"Número de términos necesarios para alcanzar la precisión de 10^-6:{n_terminos} \")\n"
   ]
  },
  {
   "cell_type": "markdown",
   "metadata": {},
   "source": [
    "### 3. Aproximación de $\\pi$ mediante otra identidad\n",
    "\n",
    "Otra fórmula para calcular $\\pi$ se puede deducir a partir de la siguiente identidad:\n",
    "\n",
    "$$\n",
    "\\frac{\\pi}{4} = 4\\arctan\\left(\\frac{1}{5}\\right) - \\arctan\\left(\\frac{1}{239}\\right)\n",
    "$$\n",
    "\n",
    "Determine el número de términos que se deben sumar para garantizar una aproximación de $\\pi$ con una precisión de $10^{-3}$.\n"
   ]
  },
  {
   "cell_type": "code",
   "execution_count": 12,
   "metadata": {},
   "outputs": [
    {
     "name": "stdout",
     "output_type": "stream",
     "text": [
      "Número de términos necesarios para obtener precisión de 10^-3: 2\n"
     ]
    }
   ],
   "source": [
    "def maclaurin_arctan(x, terms):\n",
    "    return sum((-1)**i * (x**(2 * i + 1) / (2 * i + 1)) for i in range(terms))\n",
    "\n",
    "def calculate_pi_from_identity(terms):\n",
    "    return 4 * (4 * maclaurin_arctan(1 / 5, terms) - maclaurin_arctan(1 / 239, terms))\n",
    "\n",
    "precision_threshold = 1e-3\n",
    "terms_used = 0\n",
    "pi_approximation_error = 1\n",
    "\n",
    "# Cálculo iterativo\n",
    "while pi_approximation_error >= precision_threshold:\n",
    "    terms_used += 1\n",
    "    current_pi_value = calculate_pi_from_identity(terms_used)\n",
    "    pi_approximation_error = abs(current_pi_value - math.pi)\n",
    "\n",
    "print(f\"Número de términos necesarios para obtener precisión de 10^-3: {terms_used}\")\n"
   ]
  },
  {
   "cell_type": "markdown",
   "metadata": {},
   "source": [
    "### 5. Complejidad de la suma doble\n",
    "\n",
    "#### a. Número de operaciones necesarias\n",
    "\n",
    "¿Cuántas multiplicaciones y sumas se requieren para determinar una suma de la forma:\n",
    "\n",
    "$$\n",
    "\\sum_{i=1}^{n} \\sum_{j=1}^{i} (a_i b_j)\n",
    "$$\n"
   ]
  },
  {
   "cell_type": "code",
   "execution_count": 15,
   "metadata": {},
   "outputs": [
    {
     "name": "stdout",
     "output_type": "stream",
     "text": [
      "Para n=5, se realizan 15 multiplicaciones.\n"
     ]
    }
   ],
   "source": [
    "def count_multiplications(n):\n",
    "    total_multiplicaciones = 0\n",
    "    for i in range(1, n + 1):\n",
    "        total_multiplicaciones += i\n",
    "    return total_multiplicaciones\n",
    "\n",
    "n = 5\n",
    "multiplicaciones = count_multiplications(n)\n",
    "print(f\"Para n={n}, se realizan {multiplicaciones} multiplicaciones.\")\n"
   ]
  },
  {
   "cell_type": "markdown",
   "metadata": {},
   "source": [
    "#### b. Modifique la suma en la parte a) a un formato equivalente que reduzca el número de cálculos. "
   ]
  },
  {
   "cell_type": "code",
   "execution_count": 16,
   "metadata": {},
   "outputs": [
    {
     "name": "stdout",
     "output_type": "stream",
     "text": [
      "Para n=5, se realizan 15 multiplicaciones y 10 sumas.\n"
     ]
    }
   ],
   "source": [
    "def count_operations(n):\n",
    "    total_sumas = 0\n",
    "    total_multiplicaciones = 0\n",
    "\n",
    "    for i in range(1, n + 1):\n",
    "        total_multiplicaciones += i\n",
    "        total_sumas += (i - 1)       \n",
    "\n",
    "    return total_multiplicaciones, total_sumas\n",
    "\n",
    "n = 5 \n",
    "multiplicaciones, sumas = count_operations(n)\n",
    "print(f\"Para n={n}, se realizan {multiplicaciones} multiplicaciones y {sumas} sumas.\")\n"
   ]
  },
  {
   "cell_type": "markdown",
   "metadata": {},
   "source": [
    "### DISCUSIONES  "
   ]
  },
  {
   "cell_type": "markdown",
   "metadata": {},
   "source": [
    "### Algoritmo para el cálculo de las raíces de una ecuación cuadrática\n",
    "\n",
    "Las ecuaciones (1.2) y (1.3) en la sección 1.2 proporcionan formas alternativas para las raíces $x_1$ y $x_2$ de la ecuación:\n",
    "\n",
    "$$\n",
    "ax^2 + bx + c = 0\n",
    "$$\n",
    "\n",
    "Construya un algoritmo con entrada $a, b, c$ y salida $x_1, x_2$ que calcule las raíces $x_1$ y $x_2$ (que pueden ser reales, iguales, o conjugados complejos) utilizando la mejor fórmula para cada raíz.\n"
   ]
  },
  {
   "cell_type": "code",
   "execution_count": 18,
   "metadata": {},
   "outputs": [
    {
     "name": "stdout",
     "output_type": "stream",
     "text": [
      "Las raíces son: x1 = 2.0, x2 = 1.0\n"
     ]
    }
   ],
   "source": [
    "import cmath\n",
    "\n",
    "def calcular_raices(a, b, c):\n",
    "    discriminante = b**2 - 4 * a * c\n",
    "    \n",
    "    if discriminante > 0:\n",
    "        if b > 0:\n",
    "            x1 = (-b - discriminante**0.5) / (2 * a)\n",
    "        else:\n",
    "            x1 = (-b + discriminante**0.5) / (2 * a)\n",
    "        x2 = c / (a * x1)\n",
    "    elif discriminante == 0:\n",
    "        x1 = x2 = -b / (2 * a)\n",
    "    else:\n",
    "        raiz_discriminante = cmath.sqrt(discriminante)\n",
    "        x1 = (-b + raiz_discriminante) / (2 * a)\n",
    "        x2 = (-b - raiz_discriminante) / (2 * a)\n",
    "    \n",
    "    return x1, x2\n",
    "\n",
    "a, b, c = 1, -3, 2\n",
    "raiz1, raiz2 = calcular_raices(a, b, c)\n",
    "print(f\"Las raíces son: x1 = {raiz1}, x2 = {raiz2}\")\n"
   ]
  },
  {
   "cell_type": "markdown",
   "metadata": {},
   "source": [
    "### 3. Determinación del número de términos para una aproximación precisa\n",
    "\n",
    "Suponga que:\n",
    "\n",
    "$$\n",
    "\\frac{1-2x}{1-x-x^{2}} + \\frac{2x-4x^{3}}{1-x^{2}-x^{4}} + \\frac{4x^{3}-8x^{7}}{1-x^{4}+x^{8}} + \\cdots = \\frac{1+2x}{1+x+x^{2}}\n",
    "$$\n",
    "\n",
    "para $x < 1$. Si $x = 0.25$, escriba y ejecute un algoritmo que determine el número de términos necesarios en el lado izquierdo de la ecuación tal que el lado izquierdo difiera del lado derecho en menos de $10^{-6}$.\n"
   ]
  },
  {
   "cell_type": "code",
   "execution_count": 19,
   "metadata": {},
   "outputs": [
    {
     "name": "stdout",
     "output_type": "stream",
     "text": [
      "Número de términos necesarios: 4\n",
      "Suma de la serie (lado izquierdo) con 4 términos: 1.1428571279559818\n",
      "Valor del lado derecho: 1.1428571428571428\n",
      "Diferencia: 1.4901160971803051e-08\n"
     ]
    }
   ],
   "source": [
    "def calcular_lado_derecho(x):\n",
    "    return (1 + 2 * x) / (1 + x + x**2)\n",
    "\n",
    "def calcular_serie(x, tolerancia):\n",
    "    suma = 0.0\n",
    "    n = 1\n",
    "    valor_derecho = calcular_lado_derecho(x)\n",
    "\n",
    "    A_prev = 1  \n",
    "    y_prev = x\n",
    "    x_inv = 1 / x\n",
    "\n",
    "    while True:\n",
    "        if n == 1:\n",
    "            A = A_prev\n",
    "            y = y_prev\n",
    "        else:\n",
    "            A = 2 * A_prev\n",
    "            y = y_prev ** 2\n",
    "            A_prev = A\n",
    "            y_prev = y\n",
    "\n",
    "        numerador = A * (y * x_inv) * (1 - 2 * y)\n",
    "        denominador = 1 - y + y * y\n",
    "        termino = numerador / denominador\n",
    "\n",
    "        suma += termino\n",
    "\n",
    "        error = abs(suma - valor_derecho)\n",
    "        if error < tolerancia:\n",
    "            break\n",
    "        n += 1\n",
    "        if abs(termino) < tolerancia:\n",
    "            break\n",
    "    return n, suma, valor_derecho\n",
    "\n",
    "x = 0.25\n",
    "tolerancia = 1e-6\n",
    "\n",
    "n_terminos, suma_izquierda, valor_derecho = calcular_serie(x, tolerancia)\n",
    "print(f\"Número de términos necesarios: {n_terminos}\")\n",
    "print(f\"Suma de la serie (lado izquierdo) con {n_terminos} términos: {suma_izquierda}\")\n",
    "print(f\"Valor del lado derecho: {valor_derecho}\")\n",
    "print(f\"Diferencia: {abs(suma_izquierda - valor_derecho)}\")\n"
   ]
  },
  {
   "cell_type": "markdown",
   "metadata": {},
   "source": [
    "### Declaración de Uso de Inteligencia Artificial\n",
    "\n",
    "Este documento fue creado con la ayuda de ChatGPT, diseñada para facilitar la comprensión de código y mejorar la eficiencia de desarrollo. La IA fue utilizada para:\n",
    "\n",
    "1. **Entender el código**\n",
    "\n",
    "2. **Optimización del formato**\n",
    "   \n",
    "3. **Sugerencias para mejoras**\n",
    "\n",
    "### Link al repositorio\n",
    "https://github.com/carol230/Metodos-Numericos\n",
    "\n",
    "\n"
   ]
  }
 ],
 "metadata": {
  "kernelspec": {
   "display_name": "base",
   "language": "python",
   "name": "python3"
  },
  "language_info": {
   "codemirror_mode": {
    "name": "ipython",
    "version": 3
   },
   "file_extension": ".py",
   "mimetype": "text/x-python",
   "name": "python",
   "nbconvert_exporter": "python",
   "pygments_lexer": "ipython3",
   "version": "3.12.4"
  }
 },
 "nbformat": 4,
 "nbformat_minor": 4
}
