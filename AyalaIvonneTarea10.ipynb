{
 "cells": [
  {
   "cell_type": "raw",
   "metadata": {},
   "source": [
    "---\n",
    "lang: es\n",
    "format:\n",
    "    pdf:\n",
    "        toc: false\n",
    "        toc-title: \"Tabla de Contenidos\"\n",
    "execute:\n",
    "    echo: true\n",
    "    error: false\n",
    "    warning: false\n",
    "jupyter: python3\n",
    "\n",
    "---"
   ]
  },
  {
   "cell_type": "markdown",
   "metadata": {},
   "source": [
    "| ESCUELA POLITÉCNICA NACIONAL  |                              | Tarea No. |\n",
    "|-------------------------------|------------------------------|--------------|\n",
    "| **Metodos Numericos – Computación**     | | **10**        |\n",
    "| NOMBRE: Ivonne Carolina Ayala |                              |              |\n"
   ]
  },
  {
   "cell_type": "markdown",
   "metadata": {},
   "source": [
    "# [Tarea 10] Ejercicios Unidad 04-C | Descomposición LU\n",
    "## Resuelva los ejercicios adjuntos."
   ]
  },
  {
   "cell_type": "markdown",
   "metadata": {},
   "source": [
    "### 1. Realice las siguientes multiplicaciones matriz-matriz:\n",
    "\n",
    "**a.**\n",
    "$$\n",
    "\\begin{bmatrix}\n",
    "2 & -3 \\\\\n",
    "3 & -1\n",
    "\\end{bmatrix}\n",
    "\\begin{bmatrix}\n",
    "1 & 5 \\\\\n",
    "2 & 0\n",
    "\\end{bmatrix}\n",
    "$$"
   ]
  },
  {
   "cell_type": "code",
   "execution_count": 7,
   "metadata": {},
   "outputs": [
    {
     "name": "stdout",
     "output_type": "stream",
     "text": [
      "Resultado:\n",
      "[[-4 10]\n",
      " [ 1 15]]\n"
     ]
    }
   ],
   "source": [
    "import numpy as np\n",
    "\n",
    "A = np.array([[2, -3], [3, -1]])\n",
    "B = np.array([[1, 5], [2, 0]])\n",
    "\n",
    "resultado_a = np.dot(A, B)\n",
    "print(\"Resultado:\")\n",
    "print(resultado_a)\n"
   ]
  },
  {
   "cell_type": "markdown",
   "metadata": {},
   "source": [
    "**b.**\n",
    "$$\n",
    "\\begin{bmatrix}\n",
    "2 & -3 \\\\\n",
    "3 & -1\n",
    "\\end{bmatrix}\n",
    "\\begin{bmatrix}\n",
    "1 & 5 & -4 \\\\\n",
    "-3 & 2 & 0\n",
    "\\end{bmatrix}\n",
    "$$"
   ]
  },
  {
   "cell_type": "code",
   "execution_count": 9,
   "metadata": {},
   "outputs": [
    {
     "name": "stdout",
     "output_type": "stream",
     "text": [
      "Resultado:\n",
      "[[ 11   4  -8]\n",
      " [  6  13 -12]]\n"
     ]
    }
   ],
   "source": [
    "A = np.array([[2, -3], [3, -1]])\n",
    "B = np.array([[1, 5, -4], [-3, 2, 0]])\n",
    "\n",
    "resultado_b = np.dot(A, B)\n",
    "print(\"Resultado:\")\n",
    "print(resultado_b)\n"
   ]
  },
  {
   "cell_type": "markdown",
   "metadata": {},
   "source": [
    "**c.**\n",
    "$$\n",
    "\\begin{bmatrix}\n",
    "2 & -3 & 1 \\\\\n",
    "4 & 3 & 0 \\\\\n",
    "5 & 2 & -4\n",
    "\\end{bmatrix}\n",
    "\\begin{bmatrix}\n",
    "0 & 1 & -2 \\\\\n",
    "1 & 0 & -1 \\\\\n",
    "2 & 3 & -2\n",
    "\\end{bmatrix}\n",
    "$$"
   ]
  },
  {
   "cell_type": "code",
   "execution_count": 11,
   "metadata": {},
   "outputs": [
    {
     "name": "stdout",
     "output_type": "stream",
     "text": [
      "Resultado:\n",
      "[[ -1   5  -3]\n",
      " [  3   4 -11]\n",
      " [ -6  -7  -4]]\n"
     ]
    }
   ],
   "source": [
    "A = np.array([[2, -3, 1], [4, 3, 0], [5, 2, -4]])\n",
    "B = np.array([[0, 1, -2], [1, 0, -1], [2, 3, -2]])\n",
    "\n",
    "resultado_c = np.dot(A, B)\n",
    "print(\"Resultado:\")\n",
    "print(resultado_c)\n"
   ]
  },
  {
   "cell_type": "markdown",
   "metadata": {},
   "source": [
    "**d.**\n",
    "$$\n",
    "\\begin{bmatrix}\n",
    "2 & 1 & 2 \\\\\n",
    "-2 & 3 & 0 \\\\\n",
    "2 & -1 & 3\n",
    "\\end{bmatrix}\n",
    "\\begin{bmatrix}\n",
    "1 & -2 \\\\\n",
    "-4 & 1 \\\\\n",
    "0 & 2\n",
    "\\end{bmatrix}\n",
    "$$"
   ]
  },
  {
   "cell_type": "code",
   "execution_count": 12,
   "metadata": {},
   "outputs": [
    {
     "name": "stdout",
     "output_type": "stream",
     "text": [
      "Resultado:\n",
      "[[ -2   1]\n",
      " [-14   7]\n",
      " [  6   1]]\n"
     ]
    }
   ],
   "source": [
    "A = np.array([[2, 1, 2], [-2, 3, 0], [2, -1, 3]])\n",
    "B = np.array([[1, -2], [-4, 1], [0, 2]])\n",
    "\n",
    "resultado_d = np.dot(A, B)\n",
    "print(\"Resultado:\")\n",
    "print(resultado_d)\n"
   ]
  },
  {
   "cell_type": "markdown",
   "metadata": {},
   "source": [
    "### 2. Determine cuáles de las siguientes matrices son no singulares y calcule la inversa de esas matrices:"
   ]
  },
  {
   "cell_type": "code",
   "execution_count": 15,
   "metadata": {},
   "outputs": [],
   "source": [
    "import numpy as np\n",
    "\n",
    "def analizar_matriz(matriz):\n",
    "    try:\n",
    "        det = np.linalg.det(matriz)\n",
    "        if det != 0:\n",
    "            inversa = np.linalg.inv(matriz)\n",
    "            print(f\"Determinante: {det:.2f} (No singular)\")\n",
    "            print(\"Inversa:\")\n",
    "            print(inversa, \"\\n\")\n",
    "        else:\n",
    "            print(\"Determinante: 0 (Singular)\\n\")\n",
    "    except Exception as e:\n",
    "        print(f\"Error en el análisis - {e}\\n\")\n"
   ]
  },
  {
   "cell_type": "markdown",
   "metadata": {},
   "source": [
    "**a.**\n",
    "$$\n",
    "\\begin{bmatrix}\n",
    "4 & 2 & 6 \\\\\n",
    "3 & 0 & 7 \\\\\n",
    "-2 & -1 & -3\n",
    "\\end{bmatrix}\n",
    "$$"
   ]
  },
  {
   "cell_type": "code",
   "execution_count": 20,
   "metadata": {},
   "outputs": [
    {
     "name": "stdout",
     "output_type": "stream",
     "text": [
      "Determinante: 0 (Singular)\n",
      "\n"
     ]
    }
   ],
   "source": [
    "A = np.array([[4, 2, 6], [3, 0, 7], [-2, -1, -3]])\n",
    "analizar_matriz(A)"
   ]
  },
  {
   "cell_type": "markdown",
   "metadata": {},
   "source": [
    "**b.**\n",
    "$$\n",
    "\\begin{bmatrix}\n",
    "1 & 2 & 0 \\\\\n",
    "2 & 1 & -1 \\\\\n",
    "3 & 1 & 1\n",
    "\\end{bmatrix}\n",
    "$$"
   ]
  },
  {
   "cell_type": "code",
   "execution_count": 19,
   "metadata": {},
   "outputs": [
    {
     "name": "stdout",
     "output_type": "stream",
     "text": [
      "Determinante: -8.00 (No singular)\n",
      "Inversa:\n",
      "[[-0.25   0.25   0.25 ]\n",
      " [ 0.625 -0.125 -0.125]\n",
      " [ 0.125 -0.625  0.375]] \n",
      "\n"
     ]
    }
   ],
   "source": [
    "A = np.array([[1, 2, 0], [2, 1, -1], [3, 1, 1]])\n",
    "analizar_matriz(A)"
   ]
  },
  {
   "cell_type": "markdown",
   "metadata": {},
   "source": [
    "**c.**\n",
    "$$\n",
    "\\begin{bmatrix}\n",
    "1 &1 & -1 & 1 \\\\\n",
    "1 & 2 & -4 & -2  \\\\\n",
    "2 & 1 & 1 & 5 & \\\\\n",
    "-1 & 0 & -2 & -4\n",
    "\\end{bmatrix}\n",
    "$$"
   ]
  },
  {
   "cell_type": "code",
   "execution_count": 18,
   "metadata": {},
   "outputs": [
    {
     "name": "stdout",
     "output_type": "stream",
     "text": [
      "Determinante: 0 (Singular)\n",
      "\n"
     ]
    }
   ],
   "source": [
    "A = np.array([[1, 1, -1, 1], [1, 2, -4, -2], [2, 1, 1, 5], [-1, 0, -2, -4]])\n",
    "analizar_matriz(A)\n"
   ]
  },
  {
   "cell_type": "markdown",
   "metadata": {},
   "source": [
    "**d.**\n",
    "$$\n",
    "\\begin{bmatrix}\n",
    "4 & 0 & 0 & 0 \\\\\n",
    "6 & 7 & 0 & 0 \\\\\n",
    "9 & 11 & 1 & 0 \\\\\n",
    "5 & 4 & 1 & 1\n",
    "\\end{bmatrix}\n",
    "$$"
   ]
  },
  {
   "cell_type": "code",
   "execution_count": 16,
   "metadata": {},
   "outputs": [
    {
     "name": "stdout",
     "output_type": "stream",
     "text": [
      "Determinante: 28.00 (No singular)\n",
      "Inversa:\n",
      "[[ 0.25        0.          0.          0.        ]\n",
      " [-0.21428571  0.14285714 -0.         -0.        ]\n",
      " [ 0.10714286 -1.57142857  1.         -0.        ]\n",
      " [-0.5         1.         -1.          1.        ]] \n",
      "\n"
     ]
    }
   ],
   "source": [
    "A = np.array([[4, 0, 0, 0], [6, 7, 0, 0], [9, 11, 1, 0], [5, 4, 1, 1]])\n",
    "analizar_matriz(A)"
   ]
  },
  {
   "cell_type": "markdown",
   "metadata": {},
   "source": [
    "### 3. Resuelva los sistemas lineales $4\\times 4$ que tienen la misma matriz de coeficientes:\n",
    "$$\n",
    "\\begin{aligned}\n",
    "x_1 - x_2 + 2x_3 - x_4 &= 6, & \\quad x_1 - x_2 + 2x_3 - x_4 &= 1, \\\\\n",
    "x_1 \\hspace{17mm} - x_3 + x_4 &= 4, & \\quad x_1 \\hspace{17mm} - x_3 + x_4 &= 1, \\\\\n",
    "2x_1 + x_2 + 3x_3 - 4x_4 &= -2, & \\quad 2x_1 + x_2 + 3x_3 - 4x_4 &= 2, \\\\\n",
    "\\hspace{7mm} - x_2 + x_3 - x_4 &= 5, & \\quad \\hspace{7mm} - x_2 + x_3 - x_4 &= -1.\n",
    "\\end{aligned}\n",
    "$$"
   ]
  },
  {
   "cell_type": "code",
   "execution_count": 21,
   "metadata": {},
   "outputs": [],
   "source": [
    "A = np.array([\n",
    "    [1, -1, 2, -1],\n",
    "    [1, 0, -1, 1],\n",
    "    [2, 1, 3, -4],\n",
    "    [0, -1, 1, -1]\n",
    "])"
   ]
  },
  {
   "cell_type": "code",
   "execution_count": 24,
   "metadata": {},
   "outputs": [
    {
     "name": "stdout",
     "output_type": "stream",
     "text": [
      "Primer sistema:\n",
      "x1 = 3.00, x2 = -6.00, x3 = -2.00, x4 = -1.00\n",
      "\n"
     ]
    }
   ],
   "source": [
    "b1 = np.array([6, 4, -2, 5])\n",
    "\n",
    "x1 = np.linalg.solve(A, b1)\n",
    "\n",
    "print(\"Primer sistema:\")\n",
    "print(f\"x1 = {x1[0]:.2f}, x2 = {x1[1]:.2f}, x3 = {x1[2]:.2f}, x4 = {x1[3]:.2f}\\n\")\n"
   ]
  },
  {
   "cell_type": "code",
   "execution_count": 25,
   "metadata": {},
   "outputs": [
    {
     "name": "stdout",
     "output_type": "stream",
     "text": [
      "Segundo sistema:\n",
      "x1 = 1.00, x2 = 1.00, x3 = 1.00, x4 = 1.00\n"
     ]
    }
   ],
   "source": [
    "b2 = np.array([1, 1, 2, -1])\n",
    "\n",
    "x2 = np.linalg.solve(A, b2)\n",
    "\n",
    "print(\"Segundo sistema:\")\n",
    "print(f\"x1 = {x2[0]:.2f}, x2 = {x2[1]:.2f}, x3 = {x2[2]:.2f}, x4 = {x2[3]:.2f}\")\n"
   ]
  },
  {
   "cell_type": "markdown",
   "metadata": {},
   "source": [
    "### 4. Encuentre los valores de $\\alpha$ que hacen que la siguiente matriz sea singular:\n",
    "$$\n",
    "A =\n",
    "\\begin{bmatrix}\n",
    "1 & -1 & \\alpha \\\\\n",
    "2 & 2 & 1 \\\\\n",
    "0 & \\alpha & -\\frac{3}{2}\n",
    "\\end{bmatrix}\n",
    "$$"
   ]
  },
  {
   "cell_type": "code",
   "execution_count": 27,
   "metadata": {},
   "outputs": [
    {
     "name": "stdout",
     "output_type": "stream",
     "text": [
      "Determinante de la matriz A:\n",
      "2*alpha**2 - alpha - 6.0\n",
      "\n",
      "Valores de alpha que hacen que la matriz sea singular:\n",
      "[-1.50000000000000, 2.00000000000000]\n"
     ]
    }
   ],
   "source": [
    "import sympy as sp\n",
    "\n",
    "alpha = sp.symbols('alpha')\n",
    "\n",
    "A = sp.Matrix([\n",
    "    [1, -1, alpha],\n",
    "    [2,  2,    1],\n",
    "    [0, alpha, -3/2]\n",
    "])\n",
    "\n",
    "determinante = A.det()\n",
    "print(\"Determinante de la matriz A:\")\n",
    "print(determinante)\n",
    "\n",
    "valores_alpha = sp.solve(determinante, alpha)\n",
    "print(\"\\nValores de alpha que hacen que la matriz sea singular:\")\n",
    "print(valores_alpha)\n"
   ]
  },
  {
   "cell_type": "markdown",
   "metadata": {},
   "source": [
    "### 5. Resuelva los siguientes sistemas lineales:\n",
    "**a.**\n",
    "$$\n",
    "\\begin{bmatrix}\n",
    "1 & 0 & 0 \\\\\n",
    "2 & 1 & 0 \\\\\n",
    "-1 & 0 & 1\n",
    "\\end{bmatrix}\n",
    "\\begin{bmatrix}\n",
    "2 & 3 & -1 \\\\\n",
    "0 & -2 & 1 \\\\\n",
    "0 & 0 & 3\n",
    "\\end{bmatrix}\n",
    "\\begin{bmatrix}\n",
    "x_1 \\\\\n",
    "x_2 \\\\\n",
    "x_3\n",
    "\\end{bmatrix}\n",
    "=\n",
    "\\begin{bmatrix}\n",
    "2 \\\\\n",
    "-1 \\\\\n",
    "1\n",
    "\\end{bmatrix}\n",
    "$$"
   ]
  },
  {
   "cell_type": "code",
   "execution_count": 32,
   "metadata": {},
   "outputs": [
    {
     "name": "stdout",
     "output_type": "stream",
     "text": [
      "Literal a:\n",
      "x1 = -3.00, x2 = 3.00, x3 = 1.00\n",
      "\n"
     ]
    }
   ],
   "source": [
    "A = np.array([\n",
    "    [1, 0, 0],\n",
    "    [2, 1, 0],\n",
    "    [-1, 0, 1]\n",
    "])\n",
    "\n",
    "B = np.array([\n",
    "    [2, 3, -1],\n",
    "    [0, -2, 1],\n",
    "    [0, 0, 3]\n",
    "])\n",
    "\n",
    "b = np.array([2, -1, 1])\n",
    "\n",
    "x_a = np.linalg.solve(A @ B, b)\n",
    "print(\"Literal a:\")\n",
    "print(f\"x1 = {x_a[0]:.2f}, x2 = {x_a[1]:.2f}, x3 = {x_a[2]:.2f}\\n\")\n"
   ]
  },
  {
   "cell_type": "markdown",
   "metadata": {},
   "source": [
    "**b.**\n",
    "$$\n",
    "\\begin{bmatrix}\n",
    "2 & 0 & 0 \\\\\n",
    "-1 & 1 & 0 \\\\\n",
    "3 & 2 & -1\n",
    "\\end{bmatrix}\n",
    "\\begin{bmatrix}\n",
    "1 & 1 & 1 \\\\\n",
    "0 & 1 & 2 \\\\\n",
    "0 & 0 & 1\n",
    "\\end{bmatrix}\n",
    "\\begin{bmatrix}\n",
    "x_1 \\\\\n",
    "x_2 \\\\\n",
    "x_3\n",
    "\\end{bmatrix}\n",
    "=\n",
    "\\begin{bmatrix}\n",
    "-1 \\\\\n",
    "3 \\\\\n",
    "0\n",
    "\\end{bmatrix}\n",
    "$$"
   ]
  },
  {
   "cell_type": "code",
   "execution_count": 31,
   "metadata": {},
   "outputs": [
    {
     "name": "stdout",
     "output_type": "stream",
     "text": [
      "Literal b:\n",
      "x1 = 0.50, x2 = -4.50, x3 = 3.50\n"
     ]
    }
   ],
   "source": [
    "A = np.array([\n",
    "    [2, 0, 0],\n",
    "    [-1, 1, 0],\n",
    "    [3, 2, -1]\n",
    "])\n",
    "B = np.array([\n",
    "    [1, 1, 1],\n",
    "    [0, 1, 2],\n",
    "    [0, 0, 1]\n",
    "])\n",
    "b = np.array([-1, 3, 0])\n",
    "\n",
    "x = np.linalg.solve(A @ B, b)\n",
    "print(\"Literal b:\")\n",
    "print(f\"x1 = {x[0]:.2f}, x2 = {x[1]:.2f}, x3 = {x[2]:.2f}\")\n"
   ]
  },
  {
   "cell_type": "markdown",
   "metadata": {},
   "source": [
    "### 6. Factorice las siguientes matrices en la descomposición $LU$ mediante el algoritmo de factorización $(LU)$ con $(l_{ii} = 1$) para todas las $(i$)."
   ]
  },
  {
   "cell_type": "code",
   "execution_count": 34,
   "metadata": {},
   "outputs": [],
   "source": [
    "from scipy.linalg import lu\n",
    "\n",
    "def factorizar_lu(matriz):\n",
    "    P, L, U = lu(matriz)\n",
    "    print(\"Matriz L:\")\n",
    "    print(L)\n",
    "    print(\"Matriz U:\")\n",
    "    print(U)\n",
    "    print(\"Matriz P (permuta):\")\n",
    "    print(P)\n",
    "    print(\"\\n\")\n"
   ]
  },
  {
   "cell_type": "markdown",
   "metadata": {},
   "source": [
    "**a.**\n",
    "$$\n",
    "\\begin{bmatrix}\n",
    "2 & -1 & 1 \\\\\n",
    "3 & 3 & 9 \\\\\n",
    "3 & 3 & 5\n",
    "\\end{bmatrix}\n",
    "$$\n"
   ]
  },
  {
   "cell_type": "code",
   "execution_count": 35,
   "metadata": {},
   "outputs": [
    {
     "name": "stdout",
     "output_type": "stream",
     "text": [
      "Matriz L:\n",
      "[[ 1.          0.          0.        ]\n",
      " [ 0.66666667  1.          0.        ]\n",
      " [ 1.         -0.          1.        ]]\n",
      "Matriz U:\n",
      "[[ 3.  3.  9.]\n",
      " [ 0. -3. -5.]\n",
      " [ 0.  0. -4.]]\n",
      "Matriz P (permuta):\n",
      "[[0. 1. 0.]\n",
      " [1. 0. 0.]\n",
      " [0. 0. 1.]]\n",
      "\n",
      "\n"
     ]
    }
   ],
   "source": [
    "A = np.array([\n",
    "    [2, -1, 1],\n",
    "    [3,  3, 9],\n",
    "    [3,  3, 5]\n",
    "])\n",
    "factorizar_lu(A)"
   ]
  },
  {
   "cell_type": "markdown",
   "metadata": {},
   "source": [
    "**b.**\n",
    "$$\n",
    "\\begin{bmatrix}\n",
    "1.012 & -2.132 & 3.104 \\\\\n",
    "-2.132 & 4.096 & -7.013 \\\\\n",
    "3.104 & -7.013 & 0.014\n",
    "\\end{bmatrix}\n",
    "$$"
   ]
  },
  {
   "cell_type": "code",
   "execution_count": 36,
   "metadata": {},
   "outputs": [
    {
     "name": "stdout",
     "output_type": "stream",
     "text": [
      "Matriz L:\n",
      "[[ 1.          0.          0.        ]\n",
      " [-0.68685567  1.          0.        ]\n",
      " [ 0.32603093 -0.21424728  1.        ]]\n",
      "Matriz U:\n",
      "[[ 3.104      -7.013       0.014     ]\n",
      " [ 0.         -0.72091881 -7.00338402]\n",
      " [ 0.          0.          1.59897957]]\n",
      "Matriz P (permuta):\n",
      "[[0. 0. 1.]\n",
      " [0. 1. 0.]\n",
      " [1. 0. 0.]]\n",
      "\n",
      "\n"
     ]
    }
   ],
   "source": [
    "A = np.array([\n",
    "    [1.012, -2.132, 3.104],\n",
    "    [-2.132, 4.096, -7.013],\n",
    "    [3.104, -7.013, 0.014]\n",
    "])\n",
    "factorizar_lu(A)"
   ]
  },
  {
   "cell_type": "markdown",
   "metadata": {},
   "source": [
    "**c.**\n",
    "$$\n",
    "\\begin{bmatrix}\n",
    "2 & 0 & 0 & 0 \\\\\n",
    "1 & 1.5 & 0 & 0 \\\\\n",
    "0 & -3 & 0.5 & 0 \\\\\n",
    "2 & -2 & 1 & 1\n",
    "\\end{bmatrix}\n",
    "$$"
   ]
  },
  {
   "cell_type": "code",
   "execution_count": 37,
   "metadata": {},
   "outputs": [
    {
     "name": "stdout",
     "output_type": "stream",
     "text": [
      "Matriz L:\n",
      "[[ 1.          0.          0.        ]\n",
      " [-0.68685567  1.          0.        ]\n",
      " [ 0.32603093 -0.21424728  1.        ]]\n",
      "Matriz U:\n",
      "[[ 3.104      -7.013       0.014     ]\n",
      " [ 0.         -0.72091881 -7.00338402]\n",
      " [ 0.          0.          1.59897957]]\n",
      "Matriz P (permuta):\n",
      "[[0. 0. 1.]\n",
      " [0. 1. 0.]\n",
      " [1. 0. 0.]]\n",
      "\n",
      "\n"
     ]
    }
   ],
   "source": [
    "A_c = np.array([\n",
    "    [2, 0, 0, 0],\n",
    "    [1, 1.5, 0, 0],\n",
    "    [0, -3, 0.5, 0],\n",
    "    [2, -2, 1, 1]\n",
    "])\n",
    "factorizar_lu(A)\n"
   ]
  },
  {
   "cell_type": "markdown",
   "metadata": {},
   "source": [
    "**d.**\n",
    "$$\n",
    "\\begin{bmatrix}\n",
    "2.1756 & 4.0231 & -2.1732 & 5.1967 \\\\\n",
    "-4.0231 & 6.0000 & 0 & 1.1973 \\\\\n",
    "-1.0000 & -5.2107 & 1.1111 & 0 \\\\\n",
    "6.0235 & 7.0000 & 0 & -4.1561\n",
    "\\end{bmatrix}\n",
    "$$"
   ]
  },
  {
   "cell_type": "code",
   "execution_count": 38,
   "metadata": {},
   "outputs": [
    {
     "name": "stdout",
     "output_type": "stream",
     "text": [
      "Matriz L:\n",
      "[[ 1.          0.          0.          0.        ]\n",
      " [-0.66790072  1.          0.          0.        ]\n",
      " [ 0.36118536  0.14002434  1.          0.        ]\n",
      " [-0.16601644 -0.37924771 -0.5112737   1.        ]]\n",
      "Matriz U:\n",
      "[[ 6.0235      7.          0.         -4.1561    ]\n",
      " [ 0.         10.67530506  0.         -1.57856219]\n",
      " [ 0.          0.         -2.1732      6.91885959]\n",
      " [ 0.          0.          0.          2.24878393]]\n",
      "Matriz P (permuta):\n",
      "[[0. 0. 1. 0.]\n",
      " [0. 1. 0. 0.]\n",
      " [0. 0. 0. 1.]\n",
      " [1. 0. 0. 0.]]\n",
      "\n",
      "\n"
     ]
    }
   ],
   "source": [
    "A = np.array([\n",
    "    [2.1756, 4.0231, -2.1732, 5.1967],\n",
    "    [-4.0231, 6.0000, 0.0000, 1.1973],\n",
    "    [-1.0000, -5.2107, 1.1111, 0.0000],\n",
    "    [6.0235, 7.0000, 0.0000, -4.1561]\n",
    "])\n",
    "factorizar_lu(A)\n"
   ]
  },
  {
   "cell_type": "markdown",
   "metadata": {},
   "source": [
    "### 7. Modifique el algoritmo de eliminación gaussiana de tal forma que se pueda utilizar para resolver un sistema lineal usando la descomposición LU y, a continuación, resuelva los siguientes sistemas lineales. \n"
   ]
  },
  {
   "cell_type": "code",
   "execution_count": 41,
   "metadata": {},
   "outputs": [],
   "source": [
    "from scipy.linalg import lu_factor, lu_solve\n",
    "\n",
    "def resolver_sistema_con_lu(A, b):\n",
    "    lu, piv = lu_factor(A)\n",
    "    x = lu_solve((lu, piv), b)\n",
    "    \n",
    "    print(\"Solución:\")\n",
    "    for i, val in enumerate(x):\n",
    "        print(f\"x{i+1} = {val:.4f}\")\n",
    "    print(\"\\n\")\n"
   ]
  },
  {
   "cell_type": "markdown",
   "metadata": {},
   "source": [
    "**a.**\n",
    "$$\n",
    "\\begin{aligned}\n",
    "2x_1 - x_2 + x_3 &= -1, \\\\\n",
    "3x_1 + 3x_2 + 9x_3 &= 0, \\\\\n",
    "3x_1 + 3x_2 + 5x_3 &= 4.\n",
    "\\end{aligned}\n",
    "$$"
   ]
  },
  {
   "cell_type": "code",
   "execution_count": 42,
   "metadata": {},
   "outputs": [
    {
     "name": "stdout",
     "output_type": "stream",
     "text": [
      "Solución:\n",
      "x1 = 1.0000\n",
      "x2 = 2.0000\n",
      "x3 = -1.0000\n",
      "\n",
      "\n"
     ]
    }
   ],
   "source": [
    "A = np.array([\n",
    "    [2, -1, 1],\n",
    "    [3,  3, 9],\n",
    "    [3,  3, 5]\n",
    "])\n",
    "b = np.array([-1, 0, 4])\n",
    "resolver_sistema_con_lu(A, b)"
   ]
  },
  {
   "cell_type": "markdown",
   "metadata": {},
   "source": [
    "**b.**\n",
    "$$\n",
    "\\begin{aligned}\n",
    "1.012x_1 - 2.132x_2 + 3.104x_3 &= 1.984, \\\\\n",
    "-2.132x_1 + 4.096x_2 - 7.013x_3 &= -5.049, \\\\\n",
    "3.104x_1 - 7.013x_2 + 0.014x_3 &= -3.895.\n",
    "\\end{aligned}\n",
    "$$"
   ]
  },
  {
   "cell_type": "code",
   "execution_count": 43,
   "metadata": {},
   "outputs": [
    {
     "name": "stdout",
     "output_type": "stream",
     "text": [
      "Solución:\n",
      "x1 = 1.0000\n",
      "x2 = 1.0000\n",
      "x3 = 1.0000\n",
      "\n",
      "\n"
     ]
    }
   ],
   "source": [
    "A = np.array([\n",
    "    [1.012, -2.132, 3.104],\n",
    "    [-2.132, 4.096, -7.013],\n",
    "    [3.104, -7.013, 0.014]\n",
    "])\n",
    "b = np.array([1.984, -5.049, -3.895])\n",
    "resolver_sistema_con_lu(A, b)"
   ]
  },
  {
   "cell_type": "markdown",
   "metadata": {},
   "source": [
    "**c.**\n",
    "$$\n",
    "\\begin{aligned}\n",
    "2x_1 &= 3, \\\\\n",
    "x_1 + 1.5x_2 &= 4.5, \\\\\n",
    "-3x_2 + 0.5x_3 &= -6.6, \\\\\n",
    "2x_1 - 2x_2 + x_3 + x_4 &= 0.8.\n",
    "\\end{aligned}\n",
    "$$"
   ]
  },
  {
   "cell_type": "code",
   "execution_count": 44,
   "metadata": {},
   "outputs": [
    {
     "name": "stdout",
     "output_type": "stream",
     "text": [
      "Solución:\n",
      "x1 = 1.5000\n",
      "x2 = 2.0000\n",
      "x3 = -1.2000\n",
      "x4 = 3.0000\n",
      "\n",
      "\n"
     ]
    }
   ],
   "source": [
    "A = np.array([\n",
    "    [2, 0, 0, 0],\n",
    "    [1, 1.5, 0, 0],\n",
    "    [0, -3, 0.5, 0],\n",
    "    [2, -2, 1, 1]\n",
    "])\n",
    "b = np.array([3, 4.5, -6.6, 0.8])\n",
    "resolver_sistema_con_lu(A, b)"
   ]
  },
  {
   "cell_type": "markdown",
   "metadata": {},
   "source": [
    "**d.**\n",
    "$$\n",
    "\\begin{aligned}\n",
    "2.1756x_1 + 4.0231x_2 - 2.1732x_3 + 5.1967x_4 &= 17.102, \\\\\n",
    "-4.0231x_1 + 6.0000x_2 \\hspace{8.5mm} + 1.1973x_4 &= -6.1593, \\\\\n",
    "-1.0000x_1 - 5.2107x_2 + 1.1111x_3 &= 3.0004, \\\\\n",
    "6.0235x_1 + 7.0000x_2 \\hspace{12mm} - 4.1561x_4 &= 0.0000.\n",
    "\\end{aligned}\n",
    "$$"
   ]
  },
  {
   "cell_type": "code",
   "execution_count": 51,
   "metadata": {},
   "outputs": [
    {
     "name": "stdout",
     "output_type": "stream",
     "text": [
      "Solución:\n",
      "x1 = 2.9399\n",
      "x2 = 0.0707\n",
      "x3 = 5.6777\n",
      "x4 = 4.3798\n",
      "\n",
      "\n"
     ]
    }
   ],
   "source": [
    "A = np.array([\n",
    "    [2.1756, 4.0231, -2.1732, 5.1967],\n",
    "    [-4.0231, 6.0000, 0, 1.1973],\n",
    "    [-1.0000, -5.2107, 1.1111, 0],\n",
    "    [6.0235, 7.0000, 0, -4.1561]\n",
    "])\n",
    "b = np.array([17.102, -6.1593, 3.0004, 0.0000])\n",
    "resolver_sistema_con_lu(A, b)\n"
   ]
  }
 ],
 "metadata": {
  "kernelspec": {
   "display_name": "Python 3",
   "language": "python",
   "name": "python3"
  },
  "language_info": {
   "codemirror_mode": {
    "name": "ipython",
    "version": 3
   },
   "file_extension": ".py",
   "mimetype": "text/x-python",
   "name": "python",
   "nbconvert_exporter": "python",
   "pygments_lexer": "ipython3",
   "version": "3.13.1"
  }
 },
 "nbformat": 4,
 "nbformat_minor": 2
}
